{
 "cells": [
  {
   "cell_type": "code",
   "execution_count": 3,
   "metadata": {
    "id": "8OW4YEMtiSUL"
   },
   "outputs": [],
   "source": [
    "# !pip install --upgrade ir_datasets"
   ]
  },
  {
   "cell_type": "code",
   "execution_count": 1,
   "metadata": {
    "id": "Ik0iJ9Rxj0Gm"
   },
   "outputs": [],
   "source": [
    "from pathlib import Path\n",
    "\n",
    "import pandas as pd\n",
    "import numpy as np\n",
    "\n",
    "import ir_datasets\n",
    "\n",
    "import config"
   ]
  },
  {
   "cell_type": "code",
   "execution_count": 2,
   "metadata": {
    "id": "89QlHw3nisCw"
   },
   "outputs": [],
   "source": [
    "dataset_name = config.DATASET\n",
    "dataset = ir_datasets.load(dataset_name)"
   ]
  },
  {
   "cell_type": "code",
   "execution_count": 3,
   "metadata": {
    "colab": {
     "base_uri": "https://localhost:8080/"
    },
    "executionInfo": {
     "elapsed": 6,
     "status": "ok",
     "timestamp": 1622959227976,
     "user": {
      "displayName": "Pratik Bhavsar",
      "photoUrl": "https://lh3.googleusercontent.com/a-/AOh14GjlU8zpRNrvsulni8P4zzsD1TFpmA3QoAMVIOlZwA=s64",
      "userId": "06219224739467266869"
     },
     "user_tz": -330
    },
    "id": "zJn32PKXkYVM",
    "outputId": "5e525d63-a4b1-4643-ed8d-416bf2100e1a"
   },
   "outputs": [
    {
     "data": {
      "text/plain": [
       "522931"
      ]
     },
     "execution_count": 3,
     "metadata": {},
     "output_type": "execute_result"
    }
   ],
   "source": [
    "dataset.docs_count()"
   ]
  },
  {
   "cell_type": "code",
   "execution_count": 4,
   "metadata": {
    "colab": {
     "base_uri": "https://localhost:8080/"
    },
    "executionInfo": {
     "elapsed": 6,
     "status": "ok",
     "timestamp": 1622959227977,
     "user": {
      "displayName": "Pratik Bhavsar",
      "photoUrl": "https://lh3.googleusercontent.com/a-/AOh14GjlU8zpRNrvsulni8P4zzsD1TFpmA3QoAMVIOlZwA=s64",
      "userId": "06219224739467266869"
     },
     "user_tz": -330
    },
    "id": "q_ZA7M55jl50",
    "outputId": "a95b94e9-8285-4453-b8da-ad67f86be613"
   },
   "outputs": [
    {
     "name": "stdout",
     "output_type": "stream",
     "text": [
      "BeirQuery(query_id='318', text='How does Quora look to a moderator?', metadata={})\n",
      "BeirDoc(doc_id='1', text='What is the step by step guide to invest in share market in india?', title='', metadata={})\n",
      "TrecQrel(query_id='318', doc_id='317', relevance=1, iteration='0')\n"
     ]
    }
   ],
   "source": [
    "n_docs = 1000\n",
    "\n",
    "for i, data in enumerate(zip(dataset.queries_iter(), dataset.docs_iter(), dataset.qrels_iter())):\n",
    "    query, doc, rel = data\n",
    "    print(query)\n",
    "    print(doc)\n",
    "    print(rel)\n",
    "    break"
   ]
  },
  {
   "cell_type": "code",
   "execution_count": 5,
   "metadata": {
    "colab": {
     "base_uri": "https://localhost:8080/",
     "height": 215
    },
    "executionInfo": {
     "elapsed": 5,
     "status": "ok",
     "timestamp": 1622959227977,
     "user": {
      "displayName": "Pratik Bhavsar",
      "photoUrl": "https://lh3.googleusercontent.com/a-/AOh14GjlU8zpRNrvsulni8P4zzsD1TFpmA3QoAMVIOlZwA=s64",
      "userId": "06219224739467266869"
     },
     "user_tz": -330
    },
    "id": "RtbKNffepLh0",
    "outputId": "2827e1e0-2909-4af1-b481-b35f59412463"
   },
   "outputs": [
    {
     "name": "stdout",
     "output_type": "stream",
     "text": [
      "5000\n"
     ]
    },
    {
     "data": {
      "text/html": [
       "<div>\n",
       "<style scoped>\n",
       "    .dataframe tbody tr th:only-of-type {\n",
       "        vertical-align: middle;\n",
       "    }\n",
       "\n",
       "    .dataframe tbody tr th {\n",
       "        vertical-align: top;\n",
       "    }\n",
       "\n",
       "    .dataframe thead th {\n",
       "        text-align: right;\n",
       "    }\n",
       "</style>\n",
       "<table border=\"1\" class=\"dataframe\">\n",
       "  <thead>\n",
       "    <tr style=\"text-align: right;\">\n",
       "      <th></th>\n",
       "      <th>query_id</th>\n",
       "      <th>text</th>\n",
       "      <th>metadata</th>\n",
       "    </tr>\n",
       "  </thead>\n",
       "  <tbody>\n",
       "    <tr>\n",
       "      <th>0</th>\n",
       "      <td>318</td>\n",
       "      <td>How does Quora look to a moderator?</td>\n",
       "      <td>{}</td>\n",
       "    </tr>\n",
       "    <tr>\n",
       "      <th>1</th>\n",
       "      <td>378</td>\n",
       "      <td>How do I refuse to chose between different thi...</td>\n",
       "      <td>{}</td>\n",
       "    </tr>\n",
       "    <tr>\n",
       "      <th>2</th>\n",
       "      <td>379</td>\n",
       "      <td>Did Ben Affleck shine more than Christian Bale...</td>\n",
       "      <td>{}</td>\n",
       "    </tr>\n",
       "    <tr>\n",
       "      <th>3</th>\n",
       "      <td>399</td>\n",
       "      <td>What are the effects of demonitization of 500 ...</td>\n",
       "      <td>{}</td>\n",
       "    </tr>\n",
       "    <tr>\n",
       "      <th>4</th>\n",
       "      <td>420</td>\n",
       "      <td>Why creativity is important?</td>\n",
       "      <td>{}</td>\n",
       "    </tr>\n",
       "  </tbody>\n",
       "</table>\n",
       "</div>"
      ],
      "text/plain": [
       "  query_id                                               text metadata\n",
       "0      318                How does Quora look to a moderator?       {}\n",
       "1      378  How do I refuse to chose between different thi...       {}\n",
       "2      379  Did Ben Affleck shine more than Christian Bale...       {}\n",
       "3      399  What are the effects of demonitization of 500 ...       {}\n",
       "4      420                       Why creativity is important?       {}"
      ]
     },
     "execution_count": 5,
     "metadata": {},
     "output_type": "execute_result"
    }
   ],
   "source": [
    "df_queries = pd.DataFrame(dataset.queries_iter())\n",
    "print(len(df_queries))\n",
    "df_queries.head()"
   ]
  },
  {
   "cell_type": "code",
   "execution_count": 6,
   "metadata": {
    "colab": {
     "base_uri": "https://localhost:8080/",
     "height": 215
    },
    "executionInfo": {
     "elapsed": 9376,
     "status": "ok",
     "timestamp": 1622959237907,
     "user": {
      "displayName": "Pratik Bhavsar",
      "photoUrl": "https://lh3.googleusercontent.com/a-/AOh14GjlU8zpRNrvsulni8P4zzsD1TFpmA3QoAMVIOlZwA=s64",
      "userId": "06219224739467266869"
     },
     "user_tz": -330
    },
    "id": "NgkJMLhfommq",
    "outputId": "2bcb3971-54de-4899-834c-1a2be67794ec"
   },
   "outputs": [
    {
     "name": "stdout",
     "output_type": "stream",
     "text": [
      "522931\n"
     ]
    },
    {
     "data": {
      "text/html": [
       "<div>\n",
       "<style scoped>\n",
       "    .dataframe tbody tr th:only-of-type {\n",
       "        vertical-align: middle;\n",
       "    }\n",
       "\n",
       "    .dataframe tbody tr th {\n",
       "        vertical-align: top;\n",
       "    }\n",
       "\n",
       "    .dataframe thead th {\n",
       "        text-align: right;\n",
       "    }\n",
       "</style>\n",
       "<table border=\"1\" class=\"dataframe\">\n",
       "  <thead>\n",
       "    <tr style=\"text-align: right;\">\n",
       "      <th></th>\n",
       "      <th>doc_id</th>\n",
       "      <th>text</th>\n",
       "      <th>title</th>\n",
       "      <th>metadata</th>\n",
       "    </tr>\n",
       "  </thead>\n",
       "  <tbody>\n",
       "    <tr>\n",
       "      <th>0</th>\n",
       "      <td>1</td>\n",
       "      <td>What is the step by step guide to invest in sh...</td>\n",
       "      <td></td>\n",
       "      <td>{}</td>\n",
       "    </tr>\n",
       "    <tr>\n",
       "      <th>1</th>\n",
       "      <td>2</td>\n",
       "      <td>What is the step by step guide to invest in sh...</td>\n",
       "      <td></td>\n",
       "      <td>{}</td>\n",
       "    </tr>\n",
       "    <tr>\n",
       "      <th>2</th>\n",
       "      <td>3</td>\n",
       "      <td>What is the story of Kohinoor (Koh-i-Noor) Dia...</td>\n",
       "      <td></td>\n",
       "      <td>{}</td>\n",
       "    </tr>\n",
       "    <tr>\n",
       "      <th>3</th>\n",
       "      <td>4</td>\n",
       "      <td>What would happen if the Indian government sto...</td>\n",
       "      <td></td>\n",
       "      <td>{}</td>\n",
       "    </tr>\n",
       "    <tr>\n",
       "      <th>4</th>\n",
       "      <td>5</td>\n",
       "      <td>How can I increase the speed of my internet co...</td>\n",
       "      <td></td>\n",
       "      <td>{}</td>\n",
       "    </tr>\n",
       "  </tbody>\n",
       "</table>\n",
       "</div>"
      ],
      "text/plain": [
       "  doc_id                                               text title metadata\n",
       "0      1  What is the step by step guide to invest in sh...             {}\n",
       "1      2  What is the step by step guide to invest in sh...             {}\n",
       "2      3  What is the story of Kohinoor (Koh-i-Noor) Dia...             {}\n",
       "3      4  What would happen if the Indian government sto...             {}\n",
       "4      5  How can I increase the speed of my internet co...             {}"
      ]
     },
     "execution_count": 6,
     "metadata": {},
     "output_type": "execute_result"
    }
   ],
   "source": [
    "df_docs = pd.DataFrame(dataset.docs_iter())\n",
    "print(len(df_docs))\n",
    "df_docs.head()"
   ]
  },
  {
   "cell_type": "code",
   "execution_count": 7,
   "metadata": {
    "colab": {
     "base_uri": "https://localhost:8080/",
     "height": 215
    },
    "executionInfo": {
     "elapsed": 12,
     "status": "ok",
     "timestamp": 1622959237908,
     "user": {
      "displayName": "Pratik Bhavsar",
      "photoUrl": "https://lh3.googleusercontent.com/a-/AOh14GjlU8zpRNrvsulni8P4zzsD1TFpmA3QoAMVIOlZwA=s64",
      "userId": "06219224739467266869"
     },
     "user_tz": -330
    },
    "id": "yhje3CfWpiEY",
    "outputId": "36e94bdd-2576-4b7c-bcdf-87bb7afcdf31"
   },
   "outputs": [
    {
     "name": "stdout",
     "output_type": "stream",
     "text": [
      "7626\n"
     ]
    },
    {
     "data": {
      "text/html": [
       "<div>\n",
       "<style scoped>\n",
       "    .dataframe tbody tr th:only-of-type {\n",
       "        vertical-align: middle;\n",
       "    }\n",
       "\n",
       "    .dataframe tbody tr th {\n",
       "        vertical-align: top;\n",
       "    }\n",
       "\n",
       "    .dataframe thead th {\n",
       "        text-align: right;\n",
       "    }\n",
       "</style>\n",
       "<table border=\"1\" class=\"dataframe\">\n",
       "  <thead>\n",
       "    <tr style=\"text-align: right;\">\n",
       "      <th></th>\n",
       "      <th>query_id</th>\n",
       "      <th>doc_id</th>\n",
       "      <th>relevance</th>\n",
       "      <th>iteration</th>\n",
       "    </tr>\n",
       "  </thead>\n",
       "  <tbody>\n",
       "    <tr>\n",
       "      <th>0</th>\n",
       "      <td>318</td>\n",
       "      <td>317</td>\n",
       "      <td>1</td>\n",
       "      <td>0</td>\n",
       "    </tr>\n",
       "    <tr>\n",
       "      <th>1</th>\n",
       "      <td>378</td>\n",
       "      <td>377</td>\n",
       "      <td>1</td>\n",
       "      <td>0</td>\n",
       "    </tr>\n",
       "    <tr>\n",
       "      <th>2</th>\n",
       "      <td>379</td>\n",
       "      <td>29976</td>\n",
       "      <td>1</td>\n",
       "      <td>0</td>\n",
       "    </tr>\n",
       "    <tr>\n",
       "      <th>3</th>\n",
       "      <td>379</td>\n",
       "      <td>380</td>\n",
       "      <td>1</td>\n",
       "      <td>0</td>\n",
       "    </tr>\n",
       "    <tr>\n",
       "      <th>4</th>\n",
       "      <td>379</td>\n",
       "      <td>45646</td>\n",
       "      <td>1</td>\n",
       "      <td>0</td>\n",
       "    </tr>\n",
       "  </tbody>\n",
       "</table>\n",
       "</div>"
      ],
      "text/plain": [
       "  query_id doc_id  relevance iteration\n",
       "0      318    317          1         0\n",
       "1      378    377          1         0\n",
       "2      379  29976          1         0\n",
       "3      379    380          1         0\n",
       "4      379  45646          1         0"
      ]
     },
     "execution_count": 7,
     "metadata": {},
     "output_type": "execute_result"
    }
   ],
   "source": [
    "df_qrels = pd.DataFrame(dataset.qrels_iter())\n",
    "print(len(df_qrels))\n",
    "df_qrels.head()"
   ]
  },
  {
   "cell_type": "code",
   "execution_count": 8,
   "metadata": {
    "colab": {
     "base_uri": "https://localhost:8080/"
    },
    "executionInfo": {
     "elapsed": 10,
     "status": "ok",
     "timestamp": 1622959237908,
     "user": {
      "displayName": "Pratik Bhavsar",
      "photoUrl": "https://lh3.googleusercontent.com/a-/AOh14GjlU8zpRNrvsulni8P4zzsD1TFpmA3QoAMVIOlZwA=s64",
      "userId": "06219224739467266869"
     },
     "user_tz": -330
    },
    "id": "hMv0ZW5EvW8i",
    "outputId": "e25ce347-6de9-4315-b5a6-3f81ba8b4d88"
   },
   "outputs": [
    {
     "data": {
      "text/plain": [
       "1    7626\n",
       "Name: relevance, dtype: int64"
      ]
     },
     "execution_count": 8,
     "metadata": {},
     "output_type": "execute_result"
    }
   ],
   "source": [
    "df_qrels.relevance.value_counts()"
   ]
  },
  {
   "cell_type": "code",
   "execution_count": 9,
   "metadata": {
    "colab": {
     "base_uri": "https://localhost:8080/",
     "height": 198
    },
    "executionInfo": {
     "elapsed": 8,
     "status": "ok",
     "timestamp": 1622959237908,
     "user": {
      "displayName": "Pratik Bhavsar",
      "photoUrl": "https://lh3.googleusercontent.com/a-/AOh14GjlU8zpRNrvsulni8P4zzsD1TFpmA3QoAMVIOlZwA=s64",
      "userId": "06219224739467266869"
     },
     "user_tz": -330
    },
    "id": "MQqpv6kaqg7W",
    "outputId": "657f1b05-c90f-4ffd-9b3d-603b49e7aa87"
   },
   "outputs": [
    {
     "data": {
      "text/html": [
       "<div>\n",
       "<style scoped>\n",
       "    .dataframe tbody tr th:only-of-type {\n",
       "        vertical-align: middle;\n",
       "    }\n",
       "\n",
       "    .dataframe tbody tr th {\n",
       "        vertical-align: top;\n",
       "    }\n",
       "\n",
       "    .dataframe thead th {\n",
       "        text-align: right;\n",
       "    }\n",
       "</style>\n",
       "<table border=\"1\" class=\"dataframe\">\n",
       "  <thead>\n",
       "    <tr style=\"text-align: right;\">\n",
       "      <th></th>\n",
       "      <th>doc_id</th>\n",
       "      <th>doc_text</th>\n",
       "    </tr>\n",
       "  </thead>\n",
       "  <tbody>\n",
       "    <tr>\n",
       "      <th>0</th>\n",
       "      <td>1</td>\n",
       "      <td>What is the step by step guide to invest in sh...</td>\n",
       "    </tr>\n",
       "    <tr>\n",
       "      <th>1</th>\n",
       "      <td>2</td>\n",
       "      <td>What is the step by step guide to invest in sh...</td>\n",
       "    </tr>\n",
       "    <tr>\n",
       "      <th>2</th>\n",
       "      <td>3</td>\n",
       "      <td>What is the story of Kohinoor (Koh-i-Noor) Dia...</td>\n",
       "    </tr>\n",
       "    <tr>\n",
       "      <th>3</th>\n",
       "      <td>4</td>\n",
       "      <td>What would happen if the Indian government sto...</td>\n",
       "    </tr>\n",
       "    <tr>\n",
       "      <th>4</th>\n",
       "      <td>5</td>\n",
       "      <td>How can I increase the speed of my internet co...</td>\n",
       "    </tr>\n",
       "  </tbody>\n",
       "</table>\n",
       "</div>"
      ],
      "text/plain": [
       "  doc_id                                           doc_text\n",
       "0      1  What is the step by step guide to invest in sh...\n",
       "1      2  What is the step by step guide to invest in sh...\n",
       "2      3  What is the story of Kohinoor (Koh-i-Noor) Dia...\n",
       "3      4  What would happen if the Indian government sto...\n",
       "4      5  How can I increase the speed of my internet co..."
      ]
     },
     "execution_count": 9,
     "metadata": {},
     "output_type": "execute_result"
    }
   ],
   "source": [
    "df_docs = df_docs.rename({\"text\":\"doc_text\"}, axis=1).drop([\"metadata\", \"title\"], axis=1)\n",
    "df_docs.head()"
   ]
  },
  {
   "cell_type": "code",
   "execution_count": 10,
   "metadata": {
    "colab": {
     "base_uri": "https://localhost:8080/",
     "height": 198
    },
    "executionInfo": {
     "elapsed": 7,
     "status": "ok",
     "timestamp": 1622959237908,
     "user": {
      "displayName": "Pratik Bhavsar",
      "photoUrl": "https://lh3.googleusercontent.com/a-/AOh14GjlU8zpRNrvsulni8P4zzsD1TFpmA3QoAMVIOlZwA=s64",
      "userId": "06219224739467266869"
     },
     "user_tz": -330
    },
    "id": "QcwlIhNhjoNN",
    "outputId": "e5d1962c-3ae0-4b56-c1b0-703dfc7ca3f8"
   },
   "outputs": [
    {
     "data": {
      "text/html": [
       "<div>\n",
       "<style scoped>\n",
       "    .dataframe tbody tr th:only-of-type {\n",
       "        vertical-align: middle;\n",
       "    }\n",
       "\n",
       "    .dataframe tbody tr th {\n",
       "        vertical-align: top;\n",
       "    }\n",
       "\n",
       "    .dataframe thead th {\n",
       "        text-align: right;\n",
       "    }\n",
       "</style>\n",
       "<table border=\"1\" class=\"dataframe\">\n",
       "  <thead>\n",
       "    <tr style=\"text-align: right;\">\n",
       "      <th></th>\n",
       "      <th>query_id</th>\n",
       "      <th>query_text</th>\n",
       "    </tr>\n",
       "  </thead>\n",
       "  <tbody>\n",
       "    <tr>\n",
       "      <th>0</th>\n",
       "      <td>318</td>\n",
       "      <td>How does Quora look to a moderator?</td>\n",
       "    </tr>\n",
       "    <tr>\n",
       "      <th>1</th>\n",
       "      <td>378</td>\n",
       "      <td>How do I refuse to chose between different thi...</td>\n",
       "    </tr>\n",
       "    <tr>\n",
       "      <th>2</th>\n",
       "      <td>379</td>\n",
       "      <td>Did Ben Affleck shine more than Christian Bale...</td>\n",
       "    </tr>\n",
       "    <tr>\n",
       "      <th>3</th>\n",
       "      <td>399</td>\n",
       "      <td>What are the effects of demonitization of 500 ...</td>\n",
       "    </tr>\n",
       "    <tr>\n",
       "      <th>4</th>\n",
       "      <td>420</td>\n",
       "      <td>Why creativity is important?</td>\n",
       "    </tr>\n",
       "  </tbody>\n",
       "</table>\n",
       "</div>"
      ],
      "text/plain": [
       "  query_id                                         query_text\n",
       "0      318                How does Quora look to a moderator?\n",
       "1      378  How do I refuse to chose between different thi...\n",
       "2      379  Did Ben Affleck shine more than Christian Bale...\n",
       "3      399  What are the effects of demonitization of 500 ...\n",
       "4      420                       Why creativity is important?"
      ]
     },
     "execution_count": 10,
     "metadata": {},
     "output_type": "execute_result"
    }
   ],
   "source": [
    "df_queries = df_queries.rename({\"text\":\"query_text\"}, axis=1).drop([\"metadata\"], axis=1)\n",
    "df_queries.head()"
   ]
  },
  {
   "cell_type": "code",
   "execution_count": 11,
   "metadata": {
    "colab": {
     "base_uri": "https://localhost:8080/",
     "height": 215
    },
    "executionInfo": {
     "elapsed": 670,
     "status": "ok",
     "timestamp": 1622959698135,
     "user": {
      "displayName": "Pratik Bhavsar",
      "photoUrl": "https://lh3.googleusercontent.com/a-/AOh14GjlU8zpRNrvsulni8P4zzsD1TFpmA3QoAMVIOlZwA=s64",
      "userId": "06219224739467266869"
     },
     "user_tz": -330
    },
    "id": "Pcxjo0Y1qx-v",
    "outputId": "18e8f9c4-0910-4e89-c86e-9fd352adecd6"
   },
   "outputs": [
    {
     "name": "stdout",
     "output_type": "stream",
     "text": [
      "7626\n"
     ]
    },
    {
     "data": {
      "text/html": [
       "<div>\n",
       "<style scoped>\n",
       "    .dataframe tbody tr th:only-of-type {\n",
       "        vertical-align: middle;\n",
       "    }\n",
       "\n",
       "    .dataframe tbody tr th {\n",
       "        vertical-align: top;\n",
       "    }\n",
       "\n",
       "    .dataframe thead th {\n",
       "        text-align: right;\n",
       "    }\n",
       "</style>\n",
       "<table border=\"1\" class=\"dataframe\">\n",
       "  <thead>\n",
       "    <tr style=\"text-align: right;\">\n",
       "      <th></th>\n",
       "      <th>query_text</th>\n",
       "      <th>doc_text</th>\n",
       "      <th>relevance</th>\n",
       "    </tr>\n",
       "  </thead>\n",
       "  <tbody>\n",
       "    <tr>\n",
       "      <th>0</th>\n",
       "      <td>How does Quora look to a moderator?</td>\n",
       "      <td>What does the Quora website look like to membe...</td>\n",
       "      <td>1</td>\n",
       "    </tr>\n",
       "    <tr>\n",
       "      <th>1</th>\n",
       "      <td>How do I refuse to chose between different thi...</td>\n",
       "      <td>Is it possible to pursue many different things...</td>\n",
       "      <td>1</td>\n",
       "    </tr>\n",
       "    <tr>\n",
       "      <th>2</th>\n",
       "      <td>Did Ben Affleck shine more than Christian Bale...</td>\n",
       "      <td>According to you, whose Batman performance was...</td>\n",
       "      <td>1</td>\n",
       "    </tr>\n",
       "    <tr>\n",
       "      <th>3</th>\n",
       "      <td>Did Ben Affleck shine more than Christian Bale...</td>\n",
       "      <td>No fanboys please, but who was the true batman...</td>\n",
       "      <td>1</td>\n",
       "    </tr>\n",
       "    <tr>\n",
       "      <th>4</th>\n",
       "      <td>Did Ben Affleck shine more than Christian Bale...</td>\n",
       "      <td>Who do you think portrayed Batman better: Chri...</td>\n",
       "      <td>1</td>\n",
       "    </tr>\n",
       "  </tbody>\n",
       "</table>\n",
       "</div>"
      ],
      "text/plain": [
       "                                          query_text  \\\n",
       "0                How does Quora look to a moderator?   \n",
       "1  How do I refuse to chose between different thi...   \n",
       "2  Did Ben Affleck shine more than Christian Bale...   \n",
       "3  Did Ben Affleck shine more than Christian Bale...   \n",
       "4  Did Ben Affleck shine more than Christian Bale...   \n",
       "\n",
       "                                            doc_text  relevance  \n",
       "0  What does the Quora website look like to membe...          1  \n",
       "1  Is it possible to pursue many different things...          1  \n",
       "2  According to you, whose Batman performance was...          1  \n",
       "3  No fanboys please, but who was the true batman...          1  \n",
       "4  Who do you think portrayed Batman better: Chri...          1  "
      ]
     },
     "execution_count": 11,
     "metadata": {},
     "output_type": "execute_result"
    }
   ],
   "source": [
    "df = df_qrels.merge(df_docs).merge(df_queries)[[\"query_text\", \"doc_text\", \"relevance\"]]\n",
    "print(len(df))\n",
    "df.head()"
   ]
  },
  {
   "cell_type": "code",
   "execution_count": 12,
   "metadata": {
    "colab": {
     "base_uri": "https://localhost:8080/"
    },
    "executionInfo": {
     "elapsed": 5,
     "status": "ok",
     "timestamp": 1622959698136,
     "user": {
      "displayName": "Pratik Bhavsar",
      "photoUrl": "https://lh3.googleusercontent.com/a-/AOh14GjlU8zpRNrvsulni8P4zzsD1TFpmA3QoAMVIOlZwA=s64",
      "userId": "06219224739467266869"
     },
     "user_tz": -330
    },
    "id": "ixwSjZkYjuGG",
    "outputId": "70cd4cb9-c13b-4639-f4c2-5c65e99713fd"
   },
   "outputs": [
    {
     "data": {
      "text/plain": [
       "query_text    0\n",
       "doc_text      0\n",
       "relevance     0\n",
       "dtype: int64"
      ]
     },
     "execution_count": 12,
     "metadata": {},
     "output_type": "execute_result"
    }
   ],
   "source": [
    "df.isna().sum()"
   ]
  },
  {
   "cell_type": "code",
   "execution_count": 13,
   "metadata": {
    "colab": {
     "base_uri": "https://localhost:8080/"
    },
    "executionInfo": {
     "elapsed": 4,
     "status": "ok",
     "timestamp": 1622959698136,
     "user": {
      "displayName": "Pratik Bhavsar",
      "photoUrl": "https://lh3.googleusercontent.com/a-/AOh14GjlU8zpRNrvsulni8P4zzsD1TFpmA3QoAMVIOlZwA=s64",
      "userId": "06219224739467266869"
     },
     "user_tz": -330
    },
    "id": "C-9Chbm7r59O",
    "outputId": "05e418a4-c357-48c6-b746-c26d61f9f79b"
   },
   "outputs": [
    {
     "data": {
      "text/plain": [
       "1    7626\n",
       "Name: relevance, dtype: int64"
      ]
     },
     "execution_count": 13,
     "metadata": {},
     "output_type": "execute_result"
    }
   ],
   "source": [
    "df.relevance.value_counts()"
   ]
  },
  {
   "cell_type": "code",
   "execution_count": 14,
   "metadata": {
    "id": "deTOqs35r-3O"
   },
   "outputs": [],
   "source": [
    "df_negative = df.copy()"
   ]
  },
  {
   "cell_type": "code",
   "execution_count": 15,
   "metadata": {
    "colab": {
     "base_uri": "https://localhost:8080/",
     "height": 305
    },
    "executionInfo": {
     "elapsed": 4251,
     "status": "ok",
     "timestamp": 1622959703034,
     "user": {
      "displayName": "Pratik Bhavsar",
      "photoUrl": "https://lh3.googleusercontent.com/a-/AOh14GjlU8zpRNrvsulni8P4zzsD1TFpmA3QoAMVIOlZwA=s64",
      "userId": "06219224739467266869"
     },
     "user_tz": -330
    },
    "id": "5bpNU9Vw6nbS",
    "outputId": "c29cf097-a42a-4d07-fc48-55680b0e32d0"
   },
   "outputs": [
    {
     "name": "stderr",
     "output_type": "stream",
     "text": [
      "c:\\users\\prati\\miniconda3\\lib\\site-packages\\IPython\\core\\interactiveshell.py:3441: UserWarning: `x` isn't a recognized object; `shuffle` is not guaranteed to behave correctly. E.g., non-numpy array/tensor objects with view semantics may contain duplicates after shuffling.\n",
      "  exec(code_obj, self.user_global_ns, self.user_ns)\n",
      "<ipython-input-15-c39194d3ae0d>:1: SettingWithCopyWarning: \n",
      "A value is trying to be set on a copy of a slice from a DataFrame\n",
      "\n",
      "See the caveats in the documentation: https://pandas.pydata.org/pandas-docs/stable/user_guide/indexing.html#returning-a-view-versus-a-copy\n",
      "  np.random.shuffle(df_negative.doc_text)\n"
     ]
    },
    {
     "data": {
      "text/html": [
       "<div>\n",
       "<style scoped>\n",
       "    .dataframe tbody tr th:only-of-type {\n",
       "        vertical-align: middle;\n",
       "    }\n",
       "\n",
       "    .dataframe tbody tr th {\n",
       "        vertical-align: top;\n",
       "    }\n",
       "\n",
       "    .dataframe thead th {\n",
       "        text-align: right;\n",
       "    }\n",
       "</style>\n",
       "<table border=\"1\" class=\"dataframe\">\n",
       "  <thead>\n",
       "    <tr style=\"text-align: right;\">\n",
       "      <th></th>\n",
       "      <th>query_text</th>\n",
       "      <th>doc_text</th>\n",
       "      <th>relevance</th>\n",
       "    </tr>\n",
       "  </thead>\n",
       "  <tbody>\n",
       "    <tr>\n",
       "      <th>0</th>\n",
       "      <td>How does Quora look to a moderator?</td>\n",
       "      <td>What are some amazing pics?</td>\n",
       "      <td>0</td>\n",
       "    </tr>\n",
       "    <tr>\n",
       "      <th>1</th>\n",
       "      <td>How do I refuse to chose between different thi...</td>\n",
       "      <td>How do you run fast with the ball glued to you...</td>\n",
       "      <td>0</td>\n",
       "    </tr>\n",
       "    <tr>\n",
       "      <th>2</th>\n",
       "      <td>Did Ben Affleck shine more than Christian Bale...</td>\n",
       "      <td>Which are the best colleges for electrical eng...</td>\n",
       "      <td>0</td>\n",
       "    </tr>\n",
       "    <tr>\n",
       "      <th>3</th>\n",
       "      <td>Did Ben Affleck shine more than Christian Bale...</td>\n",
       "      <td>I'm 8 days late for my period, Am I pregnant?</td>\n",
       "      <td>0</td>\n",
       "    </tr>\n",
       "    <tr>\n",
       "      <th>4</th>\n",
       "      <td>Did Ben Affleck shine more than Christian Bale...</td>\n",
       "      <td>Can someone survive a shot to the head?</td>\n",
       "      <td>0</td>\n",
       "    </tr>\n",
       "  </tbody>\n",
       "</table>\n",
       "</div>"
      ],
      "text/plain": [
       "                                          query_text  \\\n",
       "0                How does Quora look to a moderator?   \n",
       "1  How do I refuse to chose between different thi...   \n",
       "2  Did Ben Affleck shine more than Christian Bale...   \n",
       "3  Did Ben Affleck shine more than Christian Bale...   \n",
       "4  Did Ben Affleck shine more than Christian Bale...   \n",
       "\n",
       "                                            doc_text  relevance  \n",
       "0                        What are some amazing pics?          0  \n",
       "1  How do you run fast with the ball glued to you...          0  \n",
       "2  Which are the best colleges for electrical eng...          0  \n",
       "3      I'm 8 days late for my period, Am I pregnant?          0  \n",
       "4            Can someone survive a shot to the head?          0  "
      ]
     },
     "execution_count": 15,
     "metadata": {},
     "output_type": "execute_result"
    }
   ],
   "source": [
    "np.random.shuffle(df_negative.doc_text)\n",
    "df_negative[\"relevance\"] = 0\n",
    "df_negative.head()"
   ]
  },
  {
   "cell_type": "code",
   "execution_count": 16,
   "metadata": {
    "colab": {
     "base_uri": "https://localhost:8080/",
     "height": 215
    },
    "executionInfo": {
     "elapsed": 503,
     "status": "ok",
     "timestamp": 1622959757349,
     "user": {
      "displayName": "Pratik Bhavsar",
      "photoUrl": "https://lh3.googleusercontent.com/a-/AOh14GjlU8zpRNrvsulni8P4zzsD1TFpmA3QoAMVIOlZwA=s64",
      "userId": "06219224739467266869"
     },
     "user_tz": -330
    },
    "id": "ECjrgIgk69Mc",
    "outputId": "e800e2cf-b95f-462a-db1b-aa51a77b4f00"
   },
   "outputs": [
    {
     "name": "stdout",
     "output_type": "stream",
     "text": [
      "15252\n"
     ]
    },
    {
     "data": {
      "text/html": [
       "<div>\n",
       "<style scoped>\n",
       "    .dataframe tbody tr th:only-of-type {\n",
       "        vertical-align: middle;\n",
       "    }\n",
       "\n",
       "    .dataframe tbody tr th {\n",
       "        vertical-align: top;\n",
       "    }\n",
       "\n",
       "    .dataframe thead th {\n",
       "        text-align: right;\n",
       "    }\n",
       "</style>\n",
       "<table border=\"1\" class=\"dataframe\">\n",
       "  <thead>\n",
       "    <tr style=\"text-align: right;\">\n",
       "      <th></th>\n",
       "      <th>query_text</th>\n",
       "      <th>doc_text</th>\n",
       "      <th>relevance</th>\n",
       "    </tr>\n",
       "  </thead>\n",
       "  <tbody>\n",
       "    <tr>\n",
       "      <th>0</th>\n",
       "      <td>How does Quora look to a moderator?</td>\n",
       "      <td>What does the Quora website look like to membe...</td>\n",
       "      <td>1</td>\n",
       "    </tr>\n",
       "    <tr>\n",
       "      <th>1</th>\n",
       "      <td>How do I refuse to chose between different thi...</td>\n",
       "      <td>Is it possible to pursue many different things...</td>\n",
       "      <td>1</td>\n",
       "    </tr>\n",
       "    <tr>\n",
       "      <th>2</th>\n",
       "      <td>Did Ben Affleck shine more than Christian Bale...</td>\n",
       "      <td>According to you, whose Batman performance was...</td>\n",
       "      <td>1</td>\n",
       "    </tr>\n",
       "    <tr>\n",
       "      <th>3</th>\n",
       "      <td>Did Ben Affleck shine more than Christian Bale...</td>\n",
       "      <td>No fanboys please, but who was the true batman...</td>\n",
       "      <td>1</td>\n",
       "    </tr>\n",
       "    <tr>\n",
       "      <th>4</th>\n",
       "      <td>Did Ben Affleck shine more than Christian Bale...</td>\n",
       "      <td>Who do you think portrayed Batman better: Chri...</td>\n",
       "      <td>1</td>\n",
       "    </tr>\n",
       "  </tbody>\n",
       "</table>\n",
       "</div>"
      ],
      "text/plain": [
       "                                          query_text  \\\n",
       "0                How does Quora look to a moderator?   \n",
       "1  How do I refuse to chose between different thi...   \n",
       "2  Did Ben Affleck shine more than Christian Bale...   \n",
       "3  Did Ben Affleck shine more than Christian Bale...   \n",
       "4  Did Ben Affleck shine more than Christian Bale...   \n",
       "\n",
       "                                            doc_text  relevance  \n",
       "0  What does the Quora website look like to membe...          1  \n",
       "1  Is it possible to pursue many different things...          1  \n",
       "2  According to you, whose Batman performance was...          1  \n",
       "3  No fanboys please, but who was the true batman...          1  \n",
       "4  Who do you think portrayed Batman better: Chri...          1  "
      ]
     },
     "execution_count": 16,
     "metadata": {},
     "output_type": "execute_result"
    }
   ],
   "source": [
    "df = pd.concat([df, df_negative])\n",
    "print(len(df))\n",
    "df.head()"
   ]
  },
  {
   "cell_type": "code",
   "execution_count": 17,
   "metadata": {},
   "outputs": [],
   "source": [
    "save_path = Path(f\"data/{dataset_name}\")\n",
    "save_path.mkdir(exist_ok=True, parents=True)\n",
    "df.to_pickle(save_path/\"data.pkl\")"
   ]
  },
  {
   "cell_type": "code",
   "execution_count": null,
   "metadata": {},
   "outputs": [],
   "source": []
  }
 ],
 "metadata": {
  "colab": {
   "authorship_tag": "ABX9TyOyV9dmCvaqa5udL/Bo/m2/",
   "collapsed_sections": [],
   "name": "train-lightning.ipynb",
   "provenance": []
  },
  "kernelspec": {
   "display_name": "Python 3",
   "language": "python",
   "name": "python3"
  },
  "language_info": {
   "codemirror_mode": {
    "name": "ipython",
    "version": 3
   },
   "file_extension": ".py",
   "mimetype": "text/x-python",
   "name": "python",
   "nbconvert_exporter": "python",
   "pygments_lexer": "ipython3",
   "version": "3.8.5"
  }
 },
 "nbformat": 4,
 "nbformat_minor": 4
}
