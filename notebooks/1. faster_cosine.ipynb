{
 "cells": [
  {
   "cell_type": "code",
   "execution_count": null,
   "metadata": {
    "colab": {
     "base_uri": "https://localhost:8080/"
    },
    "executionInfo": {
     "elapsed": 2,
     "status": "ok",
     "timestamp": 1623611690143,
     "user": {
      "displayName": "Pratik Bhavsar",
      "photoUrl": "https://lh3.googleusercontent.com/a-/AOh14GjlU8zpRNrvsulni8P4zzsD1TFpmA3QoAMVIOlZwA=s64",
      "userId": "06219224739467266869"
     },
     "user_tz": -330
    },
    "id": "sY5-CL7nyWZG",
    "outputId": "5cb2dd21-4e5c-46c4-b175-6854e463ae11"
   },
   "outputs": [
    {
     "data": {
      "text/plain": [
       "<torch._C.Generator at 0x7fca3e066f90>"
      ]
     },
     "execution_count": 2,
     "metadata": {
      "tags": []
     },
     "output_type": "execute_result"
    }
   ],
   "source": [
    "import copy \n",
    "from typing import Optional\n",
    "\n",
    "import torch\n",
    "from torch import nn\n",
    "from torch import Tensor, device\n",
    "\n",
    "import numpy as np\n",
    "from torch.utils.data import DataLoader\n",
    "from tqdm.notebook import tqdm\n",
    "\n",
    "torch.manual_seed(0)"
   ]
  },
  {
   "cell_type": "markdown",
   "metadata": {
    "id": "jiAZNW6N9dDZ"
   },
   "source": [
    "## Faster and batched cosine similarity"
   ]
  },
  {
   "cell_type": "code",
   "execution_count": null,
   "metadata": {
    "colab": {
     "base_uri": "https://localhost:8080/"
    },
    "executionInfo": {
     "elapsed": 586,
     "status": "ok",
     "timestamp": 1623611934663,
     "user": {
      "displayName": "Pratik Bhavsar",
      "photoUrl": "https://lh3.googleusercontent.com/a-/AOh14GjlU8zpRNrvsulni8P4zzsD1TFpmA3QoAMVIOlZwA=s64",
      "userId": "06219224739467266869"
     },
     "user_tz": -330
    },
    "id": "laauaMuspYNf",
    "outputId": "e8916643-cafc-4738-9db0-6d85ebf9cc38"
   },
   "outputs": [
    {
     "data": {
      "text/plain": [
       "(torch.float32, torch.Size([10000, 768]))"
      ]
     },
     "execution_count": 85,
     "metadata": {
      "tags": []
     },
     "output_type": "execute_result"
    }
   ],
   "source": [
    "n_emb = 10000 #bigger than this will cause RAM and GPU memory issues\n",
    "emb_size = 768\n",
    "a = torch.rand(n_emb, emb_size)\n",
    "a.dtype, a.shape"
   ]
  },
  {
   "cell_type": "code",
   "execution_count": null,
   "metadata": {
    "id": "I3U5cZqwTsi9"
   },
   "outputs": [],
   "source": [
    "def original_cos_sim(a: Tensor, b: Tensor):\n",
    "    \"\"\"\n",
    "    Computes the cosine similarity cos_sim(a[i], b[j]) for all i and j.\n",
    "    :return: Matrix with res[i][j]  = cos_sim(a[i], b[j])\n",
    "    \"\"\"\n",
    "    if not isinstance(a, torch.Tensor):\n",
    "        a = torch.tensor(a)\n",
    "\n",
    "    if not isinstance(b, torch.Tensor):\n",
    "        b = torch.tensor(b)\n",
    "\n",
    "    if len(a.shape) == 1:\n",
    "        a = a.unsqueeze(0)\n",
    "\n",
    "    if len(b.shape) == 1:\n",
    "        b = b.unsqueeze(0)\n",
    "\n",
    "    a_norm = torch.nn.functional.normalize(a, p=2, dim=1)\n",
    "    b_norm = torch.nn.functional.normalize(b, p=2, dim=1)\n",
    "    return torch.mm(a_norm, b_norm.transpose(0, 1))"
   ]
  },
  {
   "cell_type": "code",
   "execution_count": null,
   "metadata": {
    "colab": {
     "base_uri": "https://localhost:8080/"
    },
    "executionInfo": {
     "elapsed": 2,
     "status": "ok",
     "timestamp": 1623611935273,
     "user": {
      "displayName": "Pratik Bhavsar",
      "photoUrl": "https://lh3.googleusercontent.com/a-/AOh14GjlU8zpRNrvsulni8P4zzsD1TFpmA3QoAMVIOlZwA=s64",
      "userId": "06219224739467266869"
     },
     "user_tz": -330
    },
    "id": "EzOMDMTttxfY",
    "outputId": "bdc98346-30d0-4fac-eb8c-95886523ce90"
   },
   "outputs": [
    {
     "data": {
      "text/plain": [
       "14715.45344"
      ]
     },
     "execution_count": 87,
     "metadata": {
      "tags": []
     },
     "output_type": "execute_result"
    }
   ],
   "source": [
    "from pynvml import *\n",
    "\n",
    "def get_size_of_tensor(a):\n",
    "    return a.element_size() * a.nelement()\n",
    "\n",
    "def get_free_gpu_memory():\n",
    "    nvmlInit()\n",
    "    h = nvmlDeviceGetHandleByIndex(0)\n",
    "    info = nvmlDeviceGetMemoryInfo(h)\n",
    "    # print(f'total    : {info.total/1e6}MB')\n",
    "    # print(f'free     : {info.free/1e6}MB')\n",
    "    # print(f'used     : {info.used/1e6}MB')\n",
    "    return info.free\n",
    "\n",
    "get_free_gpu_memory()/1e6"
   ]
  },
  {
   "cell_type": "code",
   "execution_count": null,
   "metadata": {
    "colab": {
     "base_uri": "https://localhost:8080/"
    },
    "executionInfo": {
     "elapsed": 4,
     "status": "ok",
     "timestamp": 1623611935876,
     "user": {
      "displayName": "Pratik Bhavsar",
      "photoUrl": "https://lh3.googleusercontent.com/a-/AOh14GjlU8zpRNrvsulni8P4zzsD1TFpmA3QoAMVIOlZwA=s64",
      "userId": "06219224739467266869"
     },
     "user_tz": -330
    },
    "id": "_NC7zUiCt6vN",
    "outputId": "23990568-e60f-47e1-a207-9ac3ee9e5e3d"
   },
   "outputs": [
    {
     "data": {
      "text/plain": [
       "10000.0"
      ]
     },
     "execution_count": 88,
     "metadata": {
      "tags": []
     },
     "output_type": "execute_result"
    }
   ],
   "source": [
    "def suggest_batch_size(a, b, fp16):\n",
    "    import sys\n",
    "\n",
    "    dim = a.shape[-1]\n",
    "    single_emb = torch.rand(1, dim)\n",
    "    size_of_emb = get_size_of_tensor(single_emb)\n",
    "\n",
    "    if fp16:\n",
    "        size_of_emb = size_of_emb/2\n",
    "\n",
    "    free_gpu_mem = get_free_gpu_memory()\n",
    "    size_of_float = 4\n",
    "    safety_factor = 2\n",
    "    #assume a is batched\n",
    "    # (free_mem - size_a - size_b)*batches = len(a)*len(b)*size_of_float\n",
    "    # (free_mem - size_a - size_b)/size_of_float/len(b) = len(a)/batches = batch_size\n",
    "\n",
    "    batch_size = (free_gpu_mem - len(a)*size_of_emb - len(b)*size_of_emb)/size_of_float/len(b) \n",
    "    batch_size = int(min(len(a), batch_size)/8)*8/safety_factor\n",
    "    return batch_size\n",
    "\n",
    "suggest_batch_size(a, a, fp16=False)"
   ]
  },
  {
   "cell_type": "code",
   "execution_count": null,
   "metadata": {
    "id": "lmRCd-4hGetV"
   },
   "outputs": [],
   "source": [
    "def get_tensor_for_cos_sim(a: Tensor, compute_device: Optional[str]=None, fp16:bool=False, normalize:bool=True):\n",
    "    if not isinstance(a, torch.Tensor):\n",
    "        a = torch.tensor(a)\n",
    "\n",
    "    if len(a.shape) == 1:\n",
    "        a = a.unsqueeze(0)\n",
    "\n",
    "    if compute_device:\n",
    "        a = a.to(compute_device)\n",
    "\n",
    "    if fp16:\n",
    "        a = a.type(torch.float16)\n",
    "\n",
    "    return torch.nn.functional.normalize(a, p=2, dim=1) if normalize else a\n",
    "\n",
    "\n",
    "def cos_sim(a: Tensor, b: Optional[Tensor]=None, compute_device: Optional[str]=None, return_device: str=\"cpu\", fp16:bool=False, batch_size=\"auto\", normalize:bool=True):\n",
    "    \"\"\"\n",
    "    Computes the cosine similarity cos_sim(a[i], b[j]) for all i and j.\n",
    "    :return: Matrix with res[i][j]  = cos_sim(a[i], b[j])\n",
    "    \"\"\"\n",
    "    a = get_tensor_for_cos_sim(a, compute_device, fp16, normalize)\n",
    "\n",
    "    if b is None:\n",
    "        b = a\n",
    "    else:\n",
    "        b = get_tensor_for_cos_sim(b, compute_device, fp16)\n",
    "\n",
    "    sim = []\n",
    "    if batch_size == \"auto\":\n",
    "        batch_size = suggest_batch_size(a, b, fp16=fp16)\n",
    "    chunks = int(len(a)/batch_size)\n",
    "    for chunk in torch.chunk(a, chunks):\n",
    "        sim_batch = torch.mm(chunk, b.transpose(0, 1))\n",
    "        sim.append(sim_batch.to(\"cpu\"))\n",
    "    sim = torch.cat(sim)\n",
    "\n",
    "    del chunk; del sim_batch\n",
    "    del a; del b\n",
    "\n",
    "    if fp16:\n",
    "      sim = sim.type(torch.float32)\n",
    "\n",
    "    if return_device:\n",
    "      sim = sim.to(return_device)\n",
    "      \n",
    "    return sim"
   ]
  },
  {
   "cell_type": "code",
   "execution_count": null,
   "metadata": {
    "colab": {
     "base_uri": "https://localhost:8080/"
    },
    "executionInfo": {
     "elapsed": 11130,
     "status": "ok",
     "timestamp": 1623611947004,
     "user": {
      "displayName": "Pratik Bhavsar",
      "photoUrl": "https://lh3.googleusercontent.com/a-/AOh14GjlU8zpRNrvsulni8P4zzsD1TFpmA3QoAMVIOlZwA=s64",
      "userId": "06219224739467266869"
     },
     "user_tz": -330
    },
    "id": "0oJr02yeTwIH",
    "outputId": "04f57ab3-56c8-4f5b-b9f1-5d121176baf5"
   },
   "outputs": [
    {
     "name": "stdout",
     "output_type": "stream",
     "text": [
      "1 loop, best of 5: 1.8 s per loop\n"
     ]
    }
   ],
   "source": [
    "%%timeit\n",
    "original_cos_sim(a, a)"
   ]
  },
  {
   "cell_type": "code",
   "execution_count": null,
   "metadata": {
    "colab": {
     "base_uri": "https://localhost:8080/"
    },
    "executionInfo": {
     "elapsed": 11671,
     "status": "ok",
     "timestamp": 1623611958667,
     "user": {
      "displayName": "Pratik Bhavsar",
      "photoUrl": "https://lh3.googleusercontent.com/a-/AOh14GjlU8zpRNrvsulni8P4zzsD1TFpmA3QoAMVIOlZwA=s64",
      "userId": "06219224739467266869"
     },
     "user_tz": -330
    },
    "id": "2yrnBmJ_TLZs",
    "outputId": "dafced61-a8ac-4428-d7b4-b03bc0f73ae2"
   },
   "outputs": [
    {
     "name": "stdout",
     "output_type": "stream",
     "text": [
      "1 loop, best of 5: 1.89 s per loop\n"
     ]
    }
   ],
   "source": [
    "%timeit x = cos_sim(a, compute_device=None, fp16=False)"
   ]
  },
  {
   "cell_type": "code",
   "execution_count": null,
   "metadata": {
    "colab": {
     "base_uri": "https://localhost:8080/"
    },
    "executionInfo": {
     "elapsed": 11834,
     "status": "ok",
     "timestamp": 1623611982251,
     "user": {
      "displayName": "Pratik Bhavsar",
      "photoUrl": "https://lh3.googleusercontent.com/a-/AOh14GjlU8zpRNrvsulni8P4zzsD1TFpmA3QoAMVIOlZwA=s64",
      "userId": "06219224739467266869"
     },
     "user_tz": -330
    },
    "id": "2k_SDa-P8X9s",
    "outputId": "2f9588d7-906a-41f5-cfaf-1af090be6b10"
   },
   "outputs": [
    {
     "name": "stdout",
     "output_type": "stream",
     "text": [
      "1 loop, best of 5: 1.92 s per loop\n"
     ]
    }
   ],
   "source": [
    "%timeit x = cos_sim(a, a, compute_device=None, fp16=False)"
   ]
  },
  {
   "cell_type": "code",
   "execution_count": null,
   "metadata": {
    "colab": {
     "base_uri": "https://localhost:8080/"
    },
    "executionInfo": {
     "elapsed": 2066,
     "status": "ok",
     "timestamp": 1623611984309,
     "user": {
      "displayName": "Pratik Bhavsar",
      "photoUrl": "https://lh3.googleusercontent.com/a-/AOh14GjlU8zpRNrvsulni8P4zzsD1TFpmA3QoAMVIOlZwA=s64",
      "userId": "06219224739467266869"
     },
     "user_tz": -330
    },
    "id": "HkexprqU8_ZF",
    "outputId": "fdc38d9a-d87a-4d8c-d349-a0df976548d9"
   },
   "outputs": [
    {
     "name": "stdout",
     "output_type": "stream",
     "text": [
      "1 loop, best of 5: 274 ms per loop\n"
     ]
    }
   ],
   "source": [
    "%timeit y = cos_sim(a, a, compute_device=\"cuda\", fp16=False)"
   ]
  },
  {
   "cell_type": "code",
   "execution_count": null,
   "metadata": {
    "colab": {
     "base_uri": "https://localhost:8080/"
    },
    "executionInfo": {
     "elapsed": 1307,
     "status": "ok",
     "timestamp": 1623611985614,
     "user": {
      "displayName": "Pratik Bhavsar",
      "photoUrl": "https://lh3.googleusercontent.com/a-/AOh14GjlU8zpRNrvsulni8P4zzsD1TFpmA3QoAMVIOlZwA=s64",
      "userId": "06219224739467266869"
     },
     "user_tz": -330
    },
    "id": "x_2BaxSDTTkn",
    "outputId": "44c66bf3-c8af-420d-a047-b3b168fc7ec2"
   },
   "outputs": [
    {
     "name": "stdout",
     "output_type": "stream",
     "text": [
      "1 loop, best of 5: 261 ms per loop\n"
     ]
    }
   ],
   "source": [
    "%timeit y = cos_sim(a, compute_device=\"cuda\", fp16=False)"
   ]
  },
  {
   "cell_type": "code",
   "execution_count": null,
   "metadata": {
    "colab": {
     "base_uri": "https://localhost:8080/"
    },
    "executionInfo": {
     "elapsed": 1353,
     "status": "ok",
     "timestamp": 1623611986965,
     "user": {
      "displayName": "Pratik Bhavsar",
      "photoUrl": "https://lh3.googleusercontent.com/a-/AOh14GjlU8zpRNrvsulni8P4zzsD1TFpmA3QoAMVIOlZwA=s64",
      "userId": "06219224739467266869"
     },
     "user_tz": -330
    },
    "id": "-1InJccMBWHd",
    "outputId": "82930482-ce8d-405e-f659-1ec2c0a2e777"
   },
   "outputs": [
    {
     "name": "stdout",
     "output_type": "stream",
     "text": [
      "1 loop, best of 5: 209 ms per loop\n"
     ]
    }
   ],
   "source": [
    "%timeit z = cos_sim(a, a, compute_device=\"cuda\", fp16=True)"
   ]
  },
  {
   "cell_type": "code",
   "execution_count": null,
   "metadata": {
    "id": "8fmdZ9RT-b56"
   },
   "outputs": [],
   "source": [
    "x = cos_sim(a, a, compute_device=None, fp16=False)\n",
    "y = cos_sim(a, a, compute_device=\"cuda\", fp16=False)\n",
    "z = cos_sim(a, a, compute_device=\"cuda\", fp16=True)"
   ]
  },
  {
   "cell_type": "code",
   "execution_count": null,
   "metadata": {
    "colab": {
     "base_uri": "https://localhost:8080/"
    },
    "executionInfo": {
     "elapsed": 1305,
     "status": "ok",
     "timestamp": 1623611990997,
     "user": {
      "displayName": "Pratik Bhavsar",
      "photoUrl": "https://lh3.googleusercontent.com/a-/AOh14GjlU8zpRNrvsulni8P4zzsD1TFpmA3QoAMVIOlZwA=s64",
      "userId": "06219224739467266869"
     },
     "user_tz": -330
    },
    "id": "Jg9rABOy9Le1",
    "outputId": "ac696b8f-763f-4131-ce0a-6bc3e91def9a"
   },
   "outputs": [
    {
     "data": {
      "text/plain": [
       "tensor(True)"
      ]
     },
     "execution_count": 98,
     "metadata": {
      "tags": []
     },
     "output_type": "execute_result"
    }
   ],
   "source": [
    "torch.all(torch.isclose(x,y))"
   ]
  },
  {
   "cell_type": "code",
   "execution_count": null,
   "metadata": {
    "colab": {
     "base_uri": "https://localhost:8080/"
    },
    "executionInfo": {
     "elapsed": 1139,
     "status": "ok",
     "timestamp": 1623611992134,
     "user": {
      "displayName": "Pratik Bhavsar",
      "photoUrl": "https://lh3.googleusercontent.com/a-/AOh14GjlU8zpRNrvsulni8P4zzsD1TFpmA3QoAMVIOlZwA=s64",
      "userId": "06219224739467266869"
     },
     "user_tz": -330
    },
    "id": "qZNR_aY1Nn9P",
    "outputId": "f2dec9d7-486c-42e7-d6cc-2bbbc8dc5ee5"
   },
   "outputs": [
    {
     "data": {
      "text/plain": [
       "tensor(False)"
      ]
     },
     "execution_count": 99,
     "metadata": {
      "tags": []
     },
     "output_type": "execute_result"
    }
   ],
   "source": [
    "torch.all(torch.isclose(x,z, atol=1e-06)) #cosine sim upto 6 decimal places"
   ]
  },
  {
   "cell_type": "code",
   "execution_count": null,
   "metadata": {
    "colab": {
     "base_uri": "https://localhost:8080/"
    },
    "executionInfo": {
     "elapsed": 1340,
     "status": "ok",
     "timestamp": 1623611993472,
     "user": {
      "displayName": "Pratik Bhavsar",
      "photoUrl": "https://lh3.googleusercontent.com/a-/AOh14GjlU8zpRNrvsulni8P4zzsD1TFpmA3QoAMVIOlZwA=s64",
      "userId": "06219224739467266869"
     },
     "user_tz": -330
    },
    "id": "VIOtoAXV-KUY",
    "outputId": "234b071d-f76e-4938-e2e7-d281d07da6a6"
   },
   "outputs": [
    {
     "data": {
      "text/plain": [
       "tensor(True)"
      ]
     },
     "execution_count": 100,
     "metadata": {
      "tags": []
     },
     "output_type": "execute_result"
    }
   ],
   "source": [
    "torch.all(torch.isclose(x,z, atol=1e-03)) #cosine sim upto 3 decimal places is same which is good enough"
   ]
  },
  {
   "cell_type": "code",
   "execution_count": null,
   "metadata": {
    "id": "GaRu4PLila9y"
   },
   "outputs": [],
   "source": [
    "torch.cuda.empty_cache()"
   ]
  },
  {
   "cell_type": "code",
   "execution_count": null,
   "metadata": {
    "colab": {
     "base_uri": "https://localhost:8080/"
    },
    "executionInfo": {
     "elapsed": 4,
     "status": "ok",
     "timestamp": 1623611993472,
     "user": {
      "displayName": "Pratik Bhavsar",
      "photoUrl": "https://lh3.googleusercontent.com/a-/AOh14GjlU8zpRNrvsulni8P4zzsD1TFpmA3QoAMVIOlZwA=s64",
      "userId": "06219224739467266869"
     },
     "user_tz": -330
    },
    "id": "fQ3R-KZi8W3H",
    "outputId": "b98fc5e1-947e-4acf-93ce-0b8062a304fe"
   },
   "outputs": [
    {
     "name": "stdout",
     "output_type": "stream",
     "text": [
      "Sun Jun 13 19:19:53 2021       \n",
      "+-----------------------------------------------------------------------------+\n",
      "| NVIDIA-SMI 465.27       Driver Version: 460.32.03    CUDA Version: 11.2     |\n",
      "|-------------------------------+----------------------+----------------------+\n",
      "| GPU  Name        Persistence-M| Bus-Id        Disp.A | Volatile Uncorr. ECC |\n",
      "| Fan  Temp  Perf  Pwr:Usage/Cap|         Memory-Usage | GPU-Util  Compute M. |\n",
      "|                               |                      |               MIG M. |\n",
      "|===============================+======================+======================|\n",
      "|   0  Tesla T4            Off  | 00000000:00:04.0 Off |                    0 |\n",
      "| N/A   63C    P0    29W /  70W |   1054MiB / 15109MiB |      0%      Default |\n",
      "|                               |                      |                  N/A |\n",
      "+-------------------------------+----------------------+----------------------+\n",
      "                                                                               \n",
      "+-----------------------------------------------------------------------------+\n",
      "| Processes:                                                                  |\n",
      "|  GPU   GI   CI        PID   Type   Process name                  GPU Memory |\n",
      "|        ID   ID                                                   Usage      |\n",
      "|=============================================================================|\n",
      "+-----------------------------------------------------------------------------+\n"
     ]
    }
   ],
   "source": [
    "!nvidia-smi"
   ]
  },
  {
   "cell_type": "code",
   "execution_count": null,
   "metadata": {
    "colab": {
     "base_uri": "https://localhost:8080/"
    },
    "executionInfo": {
     "elapsed": 415,
     "status": "ok",
     "timestamp": 1623611993885,
     "user": {
      "displayName": "Pratik Bhavsar",
      "photoUrl": "https://lh3.googleusercontent.com/a-/AOh14GjlU8zpRNrvsulni8P4zzsD1TFpmA3QoAMVIOlZwA=s64",
      "userId": "06219224739467266869"
     },
     "user_tz": -330
    },
    "id": "_Z24AkEhjVO5",
    "outputId": "cc04ce1c-c0c2-4c4f-a895-624631ae26fb"
   },
   "outputs": [
    {
     "data": {
      "text/plain": [
       "tensor([[1.0000, 0.7659, 0.7367,  ..., 0.7177, 0.7564, 0.7208],\n",
       "        [0.7659, 1.0000, 0.7562,  ..., 0.7554, 0.7495, 0.7510],\n",
       "        [0.7367, 0.7562, 1.0000,  ..., 0.7476, 0.7662, 0.7431],\n",
       "        ...,\n",
       "        [0.7177, 0.7554, 0.7476,  ..., 1.0000, 0.7458, 0.7512],\n",
       "        [0.7564, 0.7495, 0.7662,  ..., 0.7458, 1.0000, 0.7495],\n",
       "        [0.7208, 0.7510, 0.7431,  ..., 0.7512, 0.7495, 1.0000]])"
      ]
     },
     "execution_count": 103,
     "metadata": {
      "tags": []
     },
     "output_type": "execute_result"
    }
   ],
   "source": [
    "cos_sim(a, a, compute_device=\"cuda\")"
   ]
  },
  {
   "cell_type": "code",
   "execution_count": null,
   "metadata": {
    "colab": {
     "base_uri": "https://localhost:8080/"
    },
    "executionInfo": {
     "elapsed": 4,
     "status": "ok",
     "timestamp": 1623611993885,
     "user": {
      "displayName": "Pratik Bhavsar",
      "photoUrl": "https://lh3.googleusercontent.com/a-/AOh14GjlU8zpRNrvsulni8P4zzsD1TFpmA3QoAMVIOlZwA=s64",
      "userId": "06219224739467266869"
     },
     "user_tz": -330
    },
    "id": "xotQ17NGjVRF",
    "outputId": "d4113461-d50a-4f87-81bc-4b503c8cc536"
   },
   "outputs": [
    {
     "name": "stdout",
     "output_type": "stream",
     "text": [
      "Sun Jun 13 19:19:53 2021       \n",
      "+-----------------------------------------------------------------------------+\n",
      "| NVIDIA-SMI 465.27       Driver Version: 460.32.03    CUDA Version: 11.2     |\n",
      "|-------------------------------+----------------------+----------------------+\n",
      "| GPU  Name        Persistence-M| Bus-Id        Disp.A | Volatile Uncorr. ECC |\n",
      "| Fan  Temp  Perf  Pwr:Usage/Cap|         Memory-Usage | GPU-Util  Compute M. |\n",
      "|                               |                      |               MIG M. |\n",
      "|===============================+======================+======================|\n",
      "|   0  Tesla T4            Off  | 00000000:00:04.0 Off |                    0 |\n",
      "| N/A   63C    P0    29W /  70W |   1528MiB / 15109MiB |     13%      Default |\n",
      "|                               |                      |                  N/A |\n",
      "+-------------------------------+----------------------+----------------------+\n",
      "                                                                               \n",
      "+-----------------------------------------------------------------------------+\n",
      "| Processes:                                                                  |\n",
      "|  GPU   GI   CI        PID   Type   Process name                  GPU Memory |\n",
      "|        ID   ID                                                   Usage      |\n",
      "|=============================================================================|\n",
      "+-----------------------------------------------------------------------------+\n"
     ]
    }
   ],
   "source": [
    "!nvidia-smi"
   ]
  },
  {
   "cell_type": "code",
   "execution_count": null,
   "metadata": {
    "colab": {
     "base_uri": "https://localhost:8080/"
    },
    "executionInfo": {
     "elapsed": 2,
     "status": "ok",
     "timestamp": 1623611993885,
     "user": {
      "displayName": "Pratik Bhavsar",
      "photoUrl": "https://lh3.googleusercontent.com/a-/AOh14GjlU8zpRNrvsulni8P4zzsD1TFpmA3QoAMVIOlZwA=s64",
      "userId": "06219224739467266869"
     },
     "user_tz": -330
    },
    "id": "lfIR8l3lPqtl",
    "outputId": "23f561e3-3cbd-4fdb-8f7a-730e13195dff"
   },
   "outputs": [
    {
     "data": {
      "text/plain": [
       "torch.Size([10000, 768])"
      ]
     },
     "execution_count": 105,
     "metadata": {
      "tags": []
     },
     "output_type": "execute_result"
    }
   ],
   "source": [
    "a.shape"
   ]
  },
  {
   "cell_type": "code",
   "execution_count": null,
   "metadata": {
    "colab": {
     "base_uri": "https://localhost:8080/"
    },
    "executionInfo": {
     "elapsed": 2349,
     "status": "ok",
     "timestamp": 1623611996233,
     "user": {
      "displayName": "Pratik Bhavsar",
      "photoUrl": "https://lh3.googleusercontent.com/a-/AOh14GjlU8zpRNrvsulni8P4zzsD1TFpmA3QoAMVIOlZwA=s64",
      "userId": "06219224739467266869"
     },
     "user_tz": -330
    },
    "id": "bA0t9XKzUw6s",
    "outputId": "dba22c7f-1951-4b00-978f-c1f845f93436"
   },
   "outputs": [
    {
     "data": {
      "text/plain": [
       "torch.Size([10000, 10000])"
      ]
     },
     "execution_count": 106,
     "metadata": {
      "tags": []
     },
     "output_type": "execute_result"
    }
   ],
   "source": [
    "z = cos_sim(a, a, compute_device=\"cpu\", fp16=False, return_device=None)\n",
    "z.shape"
   ]
  },
  {
   "cell_type": "code",
   "execution_count": null,
   "metadata": {
    "colab": {
     "base_uri": "https://localhost:8080/"
    },
    "executionInfo": {
     "elapsed": 3,
     "status": "ok",
     "timestamp": 1623611996234,
     "user": {
      "displayName": "Pratik Bhavsar",
      "photoUrl": "https://lh3.googleusercontent.com/a-/AOh14GjlU8zpRNrvsulni8P4zzsD1TFpmA3QoAMVIOlZwA=s64",
      "userId": "06219224739467266869"
     },
     "user_tz": -330
    },
    "id": "_YGYsH1byJ7L",
    "outputId": "4e93ee96-af99-4e58-f1e2-dcf44cdefc81"
   },
   "outputs": [
    {
     "data": {
      "text/plain": [
       "tensor([[1.0000, 0.7659, 0.7367, 0.7538, 0.7710, 0.7362, 0.7396, 0.7318, 0.7641,\n",
       "         0.7414],\n",
       "        [0.7659, 1.0000, 0.7562, 0.7546, 0.7559, 0.7533, 0.7500, 0.7396, 0.7458,\n",
       "         0.7540]])"
      ]
     },
     "execution_count": 107,
     "metadata": {
      "tags": []
     },
     "output_type": "execute_result"
    }
   ],
   "source": [
    "z[:2, :10]"
   ]
  },
  {
   "cell_type": "code",
   "execution_count": null,
   "metadata": {
    "colab": {
     "base_uri": "https://localhost:8080/"
    },
    "executionInfo": {
     "elapsed": 2104,
     "status": "ok",
     "timestamp": 1623611998336,
     "user": {
      "displayName": "Pratik Bhavsar",
      "photoUrl": "https://lh3.googleusercontent.com/a-/AOh14GjlU8zpRNrvsulni8P4zzsD1TFpmA3QoAMVIOlZwA=s64",
      "userId": "06219224739467266869"
     },
     "user_tz": -330
    },
    "id": "rzw5VVrLyAie",
    "outputId": "69614359-e7fa-4d5f-e7d5-a176db176557"
   },
   "outputs": [
    {
     "data": {
      "text/plain": [
       "torch.Size([10000, 10000])"
      ]
     },
     "execution_count": 108,
     "metadata": {
      "tags": []
     },
     "output_type": "execute_result"
    }
   ],
   "source": [
    "batch_size = len(a)/5\n",
    "z = cos_sim(a, a, compute_device=\"cpu\", fp16=False, return_device=None, batch_size=batch_size)\n",
    "z.shape"
   ]
  },
  {
   "cell_type": "code",
   "execution_count": null,
   "metadata": {
    "colab": {
     "base_uri": "https://localhost:8080/"
    },
    "executionInfo": {
     "elapsed": 12,
     "status": "ok",
     "timestamp": 1623611998336,
     "user": {
      "displayName": "Pratik Bhavsar",
      "photoUrl": "https://lh3.googleusercontent.com/a-/AOh14GjlU8zpRNrvsulni8P4zzsD1TFpmA3QoAMVIOlZwA=s64",
      "userId": "06219224739467266869"
     },
     "user_tz": -330
    },
    "id": "zfaVGxSIyKsR",
    "outputId": "57e559ba-4436-4134-ef88-7beb53fd7b6d"
   },
   "outputs": [
    {
     "data": {
      "text/plain": [
       "tensor([[1.0000, 0.7659, 0.7367, 0.7538, 0.7710, 0.7362, 0.7396, 0.7318, 0.7641,\n",
       "         0.7414],\n",
       "        [0.7659, 1.0000, 0.7562, 0.7546, 0.7559, 0.7533, 0.7500, 0.7396, 0.7458,\n",
       "         0.7540]])"
      ]
     },
     "execution_count": 109,
     "metadata": {
      "tags": []
     },
     "output_type": "execute_result"
    }
   ],
   "source": [
    "z[:2, :10]"
   ]
  },
  {
   "cell_type": "code",
   "execution_count": null,
   "metadata": {
    "colab": {
     "base_uri": "https://localhost:8080/"
    },
    "executionInfo": {
     "elapsed": 12,
     "status": "ok",
     "timestamp": 1623611998337,
     "user": {
      "displayName": "Pratik Bhavsar",
      "photoUrl": "https://lh3.googleusercontent.com/a-/AOh14GjlU8zpRNrvsulni8P4zzsD1TFpmA3QoAMVIOlZwA=s64",
      "userId": "06219224739467266869"
     },
     "user_tz": -330
    },
    "id": "woFpP1vRUw9K",
    "outputId": "8f531181-3ce5-4c33-991a-62122846c373"
   },
   "outputs": [
    {
     "data": {
      "text/plain": [
       "torch.Size([10000, 10000])"
      ]
     },
     "execution_count": 110,
     "metadata": {
      "tags": []
     },
     "output_type": "execute_result"
    }
   ],
   "source": [
    "z = cos_sim(a, a, compute_device=\"cuda\", fp16=True, return_device='cpu', batch_size=batch_size)\n",
    "z.shape"
   ]
  },
  {
   "cell_type": "code",
   "execution_count": null,
   "metadata": {
    "colab": {
     "base_uri": "https://localhost:8080/"
    },
    "executionInfo": {
     "elapsed": 10,
     "status": "ok",
     "timestamp": 1623611998337,
     "user": {
      "displayName": "Pratik Bhavsar",
      "photoUrl": "https://lh3.googleusercontent.com/a-/AOh14GjlU8zpRNrvsulni8P4zzsD1TFpmA3QoAMVIOlZwA=s64",
      "userId": "06219224739467266869"
     },
     "user_tz": -330
    },
    "id": "qmaVAGaKyLOD",
    "outputId": "0fcedab5-7326-492b-f7ab-e759a724b392"
   },
   "outputs": [
    {
     "data": {
      "text/plain": [
       "tensor([[1.0000, 0.7661, 0.7368, 0.7539, 0.7710, 0.7363, 0.7397, 0.7319, 0.7642,\n",
       "         0.7412],\n",
       "        [0.7661, 1.0000, 0.7563, 0.7549, 0.7559, 0.7534, 0.7500, 0.7397, 0.7461,\n",
       "         0.7539]])"
      ]
     },
     "execution_count": 111,
     "metadata": {
      "tags": []
     },
     "output_type": "execute_result"
    }
   ],
   "source": [
    "z[:2, :10]"
   ]
  },
  {
   "cell_type": "code",
   "execution_count": null,
   "metadata": {
    "colab": {
     "base_uri": "https://localhost:8080/"
    },
    "executionInfo": {
     "elapsed": 2599,
     "status": "ok",
     "timestamp": 1623612000928,
     "user": {
      "displayName": "Pratik Bhavsar",
      "photoUrl": "https://lh3.googleusercontent.com/a-/AOh14GjlU8zpRNrvsulni8P4zzsD1TFpmA3QoAMVIOlZwA=s64",
      "userId": "06219224739467266869"
     },
     "user_tz": -330
    },
    "id": "Pq6TaMRYF3dp",
    "outputId": "c1518646-e0ed-452e-e130-bb86e9181a71"
   },
   "outputs": [
    {
     "data": {
      "text/plain": [
       "torch.Size([10000, 10000])"
      ]
     },
     "execution_count": 112,
     "metadata": {
      "tags": []
     },
     "output_type": "execute_result"
    }
   ],
   "source": [
    "z = original_cos_sim(a, a)\n",
    "z.shape"
   ]
  },
  {
   "cell_type": "code",
   "execution_count": null,
   "metadata": {
    "colab": {
     "base_uri": "https://localhost:8080/"
    },
    "executionInfo": {
     "elapsed": 9,
     "status": "ok",
     "timestamp": 1623612000928,
     "user": {
      "displayName": "Pratik Bhavsar",
      "photoUrl": "https://lh3.googleusercontent.com/a-/AOh14GjlU8zpRNrvsulni8P4zzsD1TFpmA3QoAMVIOlZwA=s64",
      "userId": "06219224739467266869"
     },
     "user_tz": -330
    },
    "id": "r0vl8_r8YP76",
    "outputId": "36fcf35f-59cb-42e8-9a98-3063597ea62c"
   },
   "outputs": [
    {
     "data": {
      "text/plain": [
       "tensor([[1.0000, 0.7659, 0.7367, 0.7538, 0.7710, 0.7362, 0.7396, 0.7318, 0.7641,\n",
       "         0.7414],\n",
       "        [0.7659, 1.0000, 0.7562, 0.7546, 0.7559, 0.7533, 0.7500, 0.7396, 0.7458,\n",
       "         0.7540]])"
      ]
     },
     "execution_count": 113,
     "metadata": {
      "tags": []
     },
     "output_type": "execute_result"
    }
   ],
   "source": [
    "z[:2, :10]"
   ]
  },
  {
   "cell_type": "code",
   "execution_count": null,
   "metadata": {
    "id": "5zvWLVgcYP-A"
   },
   "outputs": [],
   "source": []
  },
  {
   "cell_type": "code",
   "execution_count": null,
   "metadata": {
    "id": "CM6L8lAWFt_P"
   },
   "outputs": [],
   "source": []
  },
  {
   "cell_type": "code",
   "execution_count": null,
   "metadata": {
    "id": "6FD2qd1yFuIy"
   },
   "outputs": [],
   "source": []
  }
 ],
 "metadata": {
  "accelerator": "GPU",
  "colab": {
   "authorship_tag": "ABX9TyNbFL/cpzFGl9nYNGgF0Bwg",
   "collapsed_sections": [],
   "name": "1. faster_cosine.ipynb",
   "provenance": []
  },
  "kernelspec": {
   "display_name": "Python 3",
   "language": "python",
   "name": "python3"
  },
  "language_info": {
   "codemirror_mode": {
    "name": "ipython",
    "version": 3
   },
   "file_extension": ".py",
   "mimetype": "text/x-python",
   "name": "python",
   "nbconvert_exporter": "python",
   "pygments_lexer": "ipython3",
   "version": "3.8.5"
  }
 },
 "nbformat": 4,
 "nbformat_minor": 4
}
