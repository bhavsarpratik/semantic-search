{
 "cells": [
  {
   "cell_type": "code",
   "execution_count": 1,
   "metadata": {
    "id": "sY5-CL7nyWZG"
   },
   "outputs": [
    {
     "name": "stderr",
     "output_type": "stream",
     "text": [
      "c:\\users\\prati\\miniconda3\\lib\\site-packages\\fastprogress\\fastprogress.py:102: UserWarning: Couldn't import ipywidgets properly, progress bar will use console behavior\n",
      "  warn(\"Couldn't import ipywidgets properly, progress bar will use console behavior\")\n"
     ]
    }
   ],
   "source": [
    "import copy \n",
    "from pathlib import Path\n",
    "from typing import Optional\n",
    "\n",
    "import torch\n",
    "from torch import nn\n",
    "from torch import Tensor, device\n",
    "\n",
    "import pandas as pd\n",
    "import numpy as np\n",
    "\n",
    "from tqdm.notebook import tqdm, trange\n",
    "from fastprogress.fastprogress import master_bar, progress_bar\n",
    "\n",
    "from sentence_transformers import SentenceTransformer, util\n",
    "\n",
    "import config\n",
    "from faiss_indexer import FAISS"
   ]
  },
  {
   "cell_type": "code",
   "execution_count": 2,
   "metadata": {
    "id": "Jhcip-ySx2Hi"
   },
   "outputs": [
    {
     "data": {
      "text/plain": [
       "'paraphrase-mpnet-base-v2'"
      ]
     },
     "execution_count": 2,
     "metadata": {},
     "output_type": "execute_result"
    }
   ],
   "source": [
    "config.MODEL"
   ]
  },
  {
   "cell_type": "code",
   "execution_count": 19,
   "metadata": {},
   "outputs": [
    {
     "data": {
      "text/plain": [
       "'paraphrase-MiniLM-L3-v2'"
      ]
     },
     "execution_count": 19,
     "metadata": {},
     "output_type": "execute_result"
    }
   ],
   "source": [
    "distill_model = SentenceTransformer(config.MODEL_SMALL)\n",
    "config.MODEL_SMALL"
   ]
  },
  {
   "cell_type": "code",
   "execution_count": 3,
   "metadata": {
    "id": "ne-0kzSH9Nj2"
   },
   "outputs": [],
   "source": [
    "model = SentenceTransformer(config.MODEL)\n",
    "LAYERS = 12"
   ]
  },
  {
   "cell_type": "code",
   "execution_count": 4,
   "metadata": {},
   "outputs": [
    {
     "data": {
      "text/plain": [
       "768"
      ]
     },
     "execution_count": 4,
     "metadata": {},
     "output_type": "execute_result"
    }
   ],
   "source": [
    "dim = model.encode([\"hello\"]).shape[-1]\n",
    "dim"
   ]
  },
  {
   "cell_type": "code",
   "execution_count": 5,
   "metadata": {
    "colab": {
     "base_uri": "https://localhost:8080/"
    },
    "executionInfo": {
     "elapsed": 358,
     "status": "ok",
     "timestamp": 1623575628129,
     "user": {
      "displayName": "Pratik Bhavsar",
      "photoUrl": "https://lh3.googleusercontent.com/a-/AOh14GjlU8zpRNrvsulni8P4zzsD1TFpmA3QoAMVIOlZwA=s64",
      "userId": "06219224739467266869"
     },
     "user_tz": -330
    },
    "id": "2fGPQs2e8Zea",
    "outputId": "aa80d125-0cc2-419f-f1ed-dd116288d0f6"
   },
   "outputs": [
    {
     "data": {
      "text/plain": [
       "(torch.float32, torch.Size([10000, 768]))"
      ]
     },
     "execution_count": 5,
     "metadata": {},
     "output_type": "execute_result"
    }
   ],
   "source": [
    "n_emb = 10000\n",
    "emb_size = dim\n",
    "a = torch.rand(n_emb, emb_size)\n",
    "a.dtype, a.shape"
   ]
  },
  {
   "cell_type": "markdown",
   "metadata": {
    "id": "2a3z0Xi19Okq"
   },
   "source": [
    "## Prune top layers from sentence-transformer"
   ]
  },
  {
   "cell_type": "code",
   "execution_count": 6,
   "metadata": {
    "id": "l1toC-UNFrKw"
   },
   "outputs": [],
   "source": [
    "# encoder = model._modules['0']._modules['auto_model']._modules['encoder']._modules['layer']\n",
    "# encoder"
   ]
  },
  {
   "cell_type": "code",
   "execution_count": 7,
   "metadata": {
    "id": "8WMT3kf72jUc"
   },
   "outputs": [],
   "source": [
    "def deleteEncodingLayers(model, layers_to_keep):  # must pass in the full model\n",
    "    oldModuleList = model._modules['0']._modules['auto_model']._modules['encoder']._modules['layer']\n",
    "    newModuleList = nn.ModuleList()\n",
    "\n",
    "    # Now iterate over all layers, only keepign only the relevant layers.\n",
    "    for i in layers_to_keep:\n",
    "        newModuleList.append(oldModuleList[i])\n",
    "\n",
    "    # create a copy of the model, modify it with the new list, and return\n",
    "    copyOfModel = copy.deepcopy(model)\n",
    "    copyOfModel._modules['0']._modules['auto_model']._modules['encoder']._modules['layer'] = newModuleList\n",
    "\n",
    "    return copyOfModel"
   ]
  },
  {
   "cell_type": "code",
   "execution_count": 8,
   "metadata": {
    "colab": {
     "base_uri": "https://localhost:8080/"
    },
    "executionInfo": {
     "elapsed": 2123,
     "status": "ok",
     "timestamp": 1621702728790,
     "user": {
      "displayName": "Pratik Bhavsar",
      "photoUrl": "https://lh3.googleusercontent.com/a-/AOh14GjlU8zpRNrvsulni8P4zzsD1TFpmA3QoAMVIOlZwA=s64",
      "userId": "06219224739467266869"
     },
     "user_tz": -330
    },
    "id": "YNg1Ccx2x0My",
    "outputId": "6ace7be6-02f0-413a-ed3a-35832a5c7de5"
   },
   "outputs": [
    {
     "name": "stdout",
     "output_type": "stream",
     "text": [
      "[0, 1, 2, 3, 4, 5, 6, 7, 8, 9, 10, 11]\n",
      "tensor([[1.0000]])\n",
      "[0, 1, 2, 3, 4, 5, 6, 7, 8, 9, 10]\n",
      "tensor([[0.6800]])\n",
      "[0, 1, 2, 3, 4, 5, 6, 7, 8, 9]\n",
      "tensor([[0.5433]])\n"
     ]
    }
   ],
   "source": [
    "for remove_n_layers in range(3):\n",
    "  layers_to_keep = list(range(0, LAYERS-remove_n_layers))\n",
    "  print(layers_to_keep)\n",
    "  small_model = deleteEncodingLayers(model, layers_to_keep)\n",
    "  new_encodings = small_model.encode('hello')\n",
    "  encodings = model.encode('hello')\n",
    "  cos = util.cos_sim(encodings, new_encodings)\n",
    "  print(cos)"
   ]
  },
  {
   "cell_type": "markdown",
   "metadata": {
    "id": "IK6oxPj06hLZ"
   },
   "source": [
    "## Check time reduction"
   ]
  },
  {
   "cell_type": "code",
   "execution_count": 9,
   "metadata": {
    "colab": {
     "base_uri": "https://localhost:8080/"
    },
    "executionInfo": {
     "elapsed": 1904,
     "status": "ok",
     "timestamp": 1621702730693,
     "user": {
      "displayName": "Pratik Bhavsar",
      "photoUrl": "https://lh3.googleusercontent.com/a-/AOh14GjlU8zpRNrvsulni8P4zzsD1TFpmA3QoAMVIOlZwA=s64",
      "userId": "06219224739467266869"
     },
     "user_tz": -330
    },
    "id": "Ig6JnmKP4AM-",
    "outputId": "384999f4-d330-475d-e053-d09c8c2d6d38"
   },
   "outputs": [
    {
     "name": "stdout",
     "output_type": "stream",
     "text": [
      "11.6 ms ± 391 µs per loop (mean ± std. dev. of 7 runs, 100 loops each)\n"
     ]
    }
   ],
   "source": [
    "%timeit model.encode('hello how are you?')"
   ]
  },
  {
   "cell_type": "code",
   "execution_count": 10,
   "metadata": {
    "colab": {
     "base_uri": "https://localhost:8080/"
    },
    "executionInfo": {
     "elapsed": 9778,
     "status": "ok",
     "timestamp": 1621702740469,
     "user": {
      "displayName": "Pratik Bhavsar",
      "photoUrl": "https://lh3.googleusercontent.com/a-/AOh14GjlU8zpRNrvsulni8P4zzsD1TFpmA3QoAMVIOlZwA=s64",
      "userId": "06219224739467266869"
     },
     "user_tz": -330
    },
    "id": "X09DXVNkEruR",
    "outputId": "733d2d21-7fc2-4b4b-e5e7-63ee758d04fc"
   },
   "outputs": [
    {
     "name": "stdout",
     "output_type": "stream",
     "text": [
      "9.58 ms ± 139 µs per loop (mean ± std. dev. of 7 runs, 100 loops each)\n"
     ]
    }
   ],
   "source": [
    "%timeit small_model.encode('hello how are you?')"
   ]
  },
  {
   "cell_type": "markdown",
   "metadata": {
    "id": "4NobgjXc6l_A"
   },
   "source": [
    "## Check quality"
   ]
  },
  {
   "cell_type": "code",
   "execution_count": 11,
   "metadata": {
    "colab": {
     "base_uri": "https://localhost:8080/",
     "height": 250
    },
    "executionInfo": {
     "elapsed": 10,
     "status": "ok",
     "timestamp": 1621702740469,
     "user": {
      "displayName": "Pratik Bhavsar",
      "photoUrl": "https://lh3.googleusercontent.com/a-/AOh14GjlU8zpRNrvsulni8P4zzsD1TFpmA3QoAMVIOlZwA=s64",
      "userId": "06219224739467266869"
     },
     "user_tz": -330
    },
    "id": "NgmmgU2y5MT7",
    "outputId": "d27fb370-fb86-4882-fdaf-376de9c14332"
   },
   "outputs": [
    {
     "data": {
      "text/html": [
       "<div>\n",
       "<style scoped>\n",
       "    .dataframe tbody tr th:only-of-type {\n",
       "        vertical-align: middle;\n",
       "    }\n",
       "\n",
       "    .dataframe tbody tr th {\n",
       "        vertical-align: top;\n",
       "    }\n",
       "\n",
       "    .dataframe thead th {\n",
       "        text-align: right;\n",
       "    }\n",
       "</style>\n",
       "<table border=\"1\" class=\"dataframe\">\n",
       "  <thead>\n",
       "    <tr style=\"text-align: right;\">\n",
       "      <th></th>\n",
       "      <th>query_text</th>\n",
       "      <th>doc_text</th>\n",
       "      <th>relevance</th>\n",
       "    </tr>\n",
       "  </thead>\n",
       "  <tbody>\n",
       "    <tr>\n",
       "      <th>0</th>\n",
       "      <td>How does Quora look to a moderator?</td>\n",
       "      <td>What does the Quora website look like to members of Quora moderation?</td>\n",
       "      <td>1</td>\n",
       "    </tr>\n",
       "    <tr>\n",
       "      <th>1</th>\n",
       "      <td>How do I refuse to chose between different things to do in my life?</td>\n",
       "      <td>Is it possible to pursue many different things in life?</td>\n",
       "      <td>1</td>\n",
       "    </tr>\n",
       "    <tr>\n",
       "      <th>2</th>\n",
       "      <td>Did Ben Affleck shine more than Christian Bale as Batman?</td>\n",
       "      <td>According to you, whose Batman performance was best: Christian Bale or Ben Affleck?</td>\n",
       "      <td>1</td>\n",
       "    </tr>\n",
       "    <tr>\n",
       "      <th>3</th>\n",
       "      <td>Did Ben Affleck shine more than Christian Bale as Batman?</td>\n",
       "      <td>No fanboys please, but who was the true batman, Christian Bale or Ben Affleck?</td>\n",
       "      <td>1</td>\n",
       "    </tr>\n",
       "    <tr>\n",
       "      <th>4</th>\n",
       "      <td>Did Ben Affleck shine more than Christian Bale as Batman?</td>\n",
       "      <td>Who do you think portrayed Batman better: Christian Bale or Ben Affleck?</td>\n",
       "      <td>1</td>\n",
       "    </tr>\n",
       "  </tbody>\n",
       "</table>\n",
       "</div>"
      ],
      "text/plain": [
       "                                                            query_text  \\\n",
       "0                                  How does Quora look to a moderator?   \n",
       "1  How do I refuse to chose between different things to do in my life?   \n",
       "2            Did Ben Affleck shine more than Christian Bale as Batman?   \n",
       "3            Did Ben Affleck shine more than Christian Bale as Batman?   \n",
       "4            Did Ben Affleck shine more than Christian Bale as Batman?   \n",
       "\n",
       "                                                                              doc_text  \\\n",
       "0                What does the Quora website look like to members of Quora moderation?   \n",
       "1                              Is it possible to pursue many different things in life?   \n",
       "2  According to you, whose Batman performance was best: Christian Bale or Ben Affleck?   \n",
       "3       No fanboys please, but who was the true batman, Christian Bale or Ben Affleck?   \n",
       "4             Who do you think portrayed Batman better: Christian Bale or Ben Affleck?   \n",
       "\n",
       "   relevance  \n",
       "0          1  \n",
       "1          1  \n",
       "2          1  \n",
       "3          1  \n",
       "4          1  "
      ]
     },
     "execution_count": 11,
     "metadata": {},
     "output_type": "execute_result"
    }
   ],
   "source": [
    "dataset_name = config.DATASET\n",
    "save_path = Path(f\"data/{dataset_name}\")\n",
    "df = pd.read_pickle(save_path/\"data.pkl\")\n",
    "df.head()"
   ]
  },
  {
   "cell_type": "code",
   "execution_count": 12,
   "metadata": {
    "id": "ibV_zPpJvipb"
   },
   "outputs": [],
   "source": [
    "texts = df.query_text.unique().tolist()"
   ]
  },
  {
   "cell_type": "code",
   "execution_count": 24,
   "metadata": {
    "colab": {
     "base_uri": "https://localhost:8080/"
    },
    "executionInfo": {
     "elapsed": 6819,
     "status": "ok",
     "timestamp": 1621703088482,
     "user": {
      "displayName": "Pratik Bhavsar",
      "photoUrl": "https://lh3.googleusercontent.com/a-/AOh14GjlU8zpRNrvsulni8P4zzsD1TFpmA3QoAMVIOlZwA=s64",
      "userId": "06219224739467266869"
     },
     "user_tz": -330
    },
    "id": "xbhUAKD27znj",
    "outputId": "103eec66-b79e-4993-c930-9a319ab271fc"
   },
   "outputs": [
    {
     "data": {
      "text/plain": [
       "((5000, 768), (5000, 768), (5000, 384))"
      ]
     },
     "execution_count": 24,
     "metadata": {},
     "output_type": "execute_result"
    }
   ],
   "source": [
    "vectors = model.encode(texts)\n",
    "small_vectors = small_model.encode(texts)\n",
    "distill_vectors = distill_model.encode(texts)\n",
    "vectors.shape, small_vectors.shape, distill_vectors.shape"
   ]
  },
  {
   "cell_type": "code",
   "execution_count": 25,
   "metadata": {
    "id": "sHok6sgiubRx"
   },
   "outputs": [],
   "source": [
    "index = FAISS(768, gpu=False)\n",
    "small_index = FAISS(768, gpu=False)\n",
    "distill_index = FAISS(384, gpu=False)"
   ]
  },
  {
   "cell_type": "code",
   "execution_count": 26,
   "metadata": {
    "colab": {
     "base_uri": "https://localhost:8080/",
     "height": 66,
     "referenced_widgets": [
      "d60ec78f265a47f5be50ff8935fee4f5",
      "afb142817be84c84b659f2d1ef04c413",
      "ab69ba9ae2bd45de814f8652f7851e98",
      "f17ba2ff2c6344d19bf2c841787c80d7",
      "18ea65a3ab5d4665b679e49bb4cf63f3",
      "cde4da60206549d6ba5167c8f12abbe9",
      "12f960977ce245aab1f6b0b702fbf699",
      "6c29065239d847b0808bc187bf68346f"
     ]
    },
    "executionInfo": {
     "elapsed": 1872,
     "status": "ok",
     "timestamp": 1621703753352,
     "user": {
      "displayName": "Pratik Bhavsar",
      "photoUrl": "https://lh3.googleusercontent.com/a-/AOh14GjlU8zpRNrvsulni8P4zzsD1TFpmA3QoAMVIOlZwA=s64",
      "userId": "06219224739467266869"
     },
     "user_tz": -330
    },
    "id": "iqWj-N7Qu01E",
    "outputId": "2eede9be-2802-4cb9-e7ec-195dc45aff7c"
   },
   "outputs": [
    {
     "data": {
      "application/vnd.jupyter.widget-view+json": {
       "model_id": "1665bc51b46d48ceb9764ca2676f5bcc",
       "version_major": 2,
       "version_minor": 0
      },
      "text/plain": [
       "HBox(children=(HTML(value=''), FloatProgress(value=0.0, max=5000.0), HTML(value='')))"
      ]
     },
     "metadata": {},
     "output_type": "display_data"
    },
    {
     "name": "stdout",
     "output_type": "stream",
     "text": [
      "\n"
     ]
    }
   ],
   "source": [
    "for i in trange(len(texts)):\n",
    "    index.add(texts[i], [vectors[i]])\n",
    "    small_index.add(texts[i], [small_vectors[i]])\n",
    "    distill_index.add(texts[i], [distill_vectors[i]])"
   ]
  },
  {
   "cell_type": "markdown",
   "metadata": {},
   "source": [
    "## paraphrase-mpnet-base-v2 results"
   ]
  },
  {
   "cell_type": "code",
   "execution_count": 27,
   "metadata": {
    "colab": {
     "base_uri": "https://localhost:8080/",
     "height": 665
    },
    "executionInfo": {
     "elapsed": 8,
     "status": "ok",
     "timestamp": 1621703753353,
     "user": {
      "displayName": "Pratik Bhavsar",
      "photoUrl": "https://lh3.googleusercontent.com/a-/AOh14GjlU8zpRNrvsulni8P4zzsD1TFpmA3QoAMVIOlZwA=s64",
      "userId": "06219224739467266869"
     },
     "user_tz": -330
    },
    "id": "QJ2CB-bw5vF4",
    "outputId": "8365f208-037e-4f5e-b812-b59ed570a75e"
   },
   "outputs": [
    {
     "name": "stdout",
     "output_type": "stream",
     "text": [
      "(1, 768)\n"
     ]
    },
    {
     "data": {
      "text/html": [
       "<div>\n",
       "<style scoped>\n",
       "    .dataframe tbody tr th:only-of-type {\n",
       "        vertical-align: middle;\n",
       "    }\n",
       "\n",
       "    .dataframe tbody tr th {\n",
       "        vertical-align: top;\n",
       "    }\n",
       "\n",
       "    .dataframe thead th {\n",
       "        text-align: right;\n",
       "    }\n",
       "</style>\n",
       "<table border=\"1\" class=\"dataframe\">\n",
       "  <thead>\n",
       "    <tr style=\"text-align: right;\">\n",
       "      <th></th>\n",
       "      <th>text</th>\n",
       "      <th>cosine_sim</th>\n",
       "    </tr>\n",
       "  </thead>\n",
       "  <tbody>\n",
       "    <tr>\n",
       "      <th>0</th>\n",
       "      <td>Is long distance running healthy?</td>\n",
       "      <td>0.55</td>\n",
       "    </tr>\n",
       "    <tr>\n",
       "      <th>1</th>\n",
       "      <td>What are some good tips to live to be 100?</td>\n",
       "      <td>0.55</td>\n",
       "    </tr>\n",
       "    <tr>\n",
       "      <th>2</th>\n",
       "      <td>What is the healthiest food?</td>\n",
       "      <td>0.53</td>\n",
       "    </tr>\n",
       "    <tr>\n",
       "      <th>3</th>\n",
       "      <td>How do you stay energetic?</td>\n",
       "      <td>0.53</td>\n",
       "    </tr>\n",
       "    <tr>\n",
       "      <th>4</th>\n",
       "      <td>What is the best way to improve stamina?</td>\n",
       "      <td>0.53</td>\n",
       "    </tr>\n",
       "    <tr>\n",
       "      <th>5</th>\n",
       "      <td>What is the best supplement to use if I need more energy?</td>\n",
       "      <td>0.52</td>\n",
       "    </tr>\n",
       "    <tr>\n",
       "      <th>6</th>\n",
       "      <td>What does a healthy diet consist of?</td>\n",
       "      <td>0.52</td>\n",
       "    </tr>\n",
       "    <tr>\n",
       "      <th>7</th>\n",
       "      <td>How can I gain weight and develop fitness?</td>\n",
       "      <td>0.51</td>\n",
       "    </tr>\n",
       "    <tr>\n",
       "      <th>8</th>\n",
       "      <td>Is eating bread good for health?</td>\n",
       "      <td>0.47</td>\n",
       "    </tr>\n",
       "    <tr>\n",
       "      <th>9</th>\n",
       "      <td>What are the health benefits of doing pushups everyday?</td>\n",
       "      <td>0.47</td>\n",
       "    </tr>\n",
       "    <tr>\n",
       "      <th>10</th>\n",
       "      <td>Is it necessary to go to gym to get good looking body?</td>\n",
       "      <td>0.47</td>\n",
       "    </tr>\n",
       "    <tr>\n",
       "      <th>11</th>\n",
       "      <td>Why do I never get sick?</td>\n",
       "      <td>0.47</td>\n",
       "    </tr>\n",
       "    <tr>\n",
       "      <th>12</th>\n",
       "      <td>How can we lead a better life?</td>\n",
       "      <td>0.47</td>\n",
       "    </tr>\n",
       "    <tr>\n",
       "      <th>13</th>\n",
       "      <td>How can I change my baby fat in a healthy way？?</td>\n",
       "      <td>0.46</td>\n",
       "    </tr>\n",
       "    <tr>\n",
       "      <th>14</th>\n",
       "      <td>What is the best diet during menopause?</td>\n",
       "      <td>0.46</td>\n",
       "    </tr>\n",
       "    <tr>\n",
       "      <th>15</th>\n",
       "      <td>What should one eat after workout?</td>\n",
       "      <td>0.46</td>\n",
       "    </tr>\n",
       "    <tr>\n",
       "      <th>16</th>\n",
       "      <td>How do I make myself more productive and happy?</td>\n",
       "      <td>0.45</td>\n",
       "    </tr>\n",
       "    <tr>\n",
       "      <th>17</th>\n",
       "      <td>What is the best way to motivate yourself to work out in the morning?</td>\n",
       "      <td>0.45</td>\n",
       "    </tr>\n",
       "    <tr>\n",
       "      <th>18</th>\n",
       "      <td>How do I maintain our face clean and oily less?</td>\n",
       "      <td>0.45</td>\n",
       "    </tr>\n",
       "    <tr>\n",
       "      <th>19</th>\n",
       "      <td>What time is it best to exercise?</td>\n",
       "      <td>0.45</td>\n",
       "    </tr>\n",
       "  </tbody>\n",
       "</table>\n",
       "</div>"
      ],
      "text/plain": [
       "                                                                     text  \\\n",
       "0                                       Is long distance running healthy?   \n",
       "1                              What are some good tips to live to be 100?   \n",
       "2                                            What is the healthiest food?   \n",
       "3                                              How do you stay energetic?   \n",
       "4                                What is the best way to improve stamina?   \n",
       "5               What is the best supplement to use if I need more energy?   \n",
       "6                                    What does a healthy diet consist of?   \n",
       "7                              How can I gain weight and develop fitness?   \n",
       "8                                        Is eating bread good for health?   \n",
       "9                 What are the health benefits of doing pushups everyday?   \n",
       "10                 Is it necessary to go to gym to get good looking body?   \n",
       "11                                               Why do I never get sick?   \n",
       "12                                         How can we lead a better life?   \n",
       "13                        How can I change my baby fat in a healthy way？?   \n",
       "14                                What is the best diet during menopause?   \n",
       "15                                     What should one eat after workout?   \n",
       "16                        How do I make myself more productive and happy?   \n",
       "17  What is the best way to motivate yourself to work out in the morning?   \n",
       "18                        How do I maintain our face clean and oily less?   \n",
       "19                                      What time is it best to exercise?   \n",
       "\n",
       "    cosine_sim  \n",
       "0         0.55  \n",
       "1         0.55  \n",
       "2         0.53  \n",
       "3         0.53  \n",
       "4         0.53  \n",
       "5         0.52  \n",
       "6         0.52  \n",
       "7         0.51  \n",
       "8         0.47  \n",
       "9         0.47  \n",
       "10        0.47  \n",
       "11        0.47  \n",
       "12        0.47  \n",
       "13        0.46  \n",
       "14        0.46  \n",
       "15        0.46  \n",
       "16        0.45  \n",
       "17        0.45  \n",
       "18        0.45  \n",
       "19        0.45  "
      ]
     },
     "execution_count": 27,
     "metadata": {},
     "output_type": "execute_result"
    }
   ],
   "source": [
    "query = \"how to get better health\"\n",
    "\n",
    "query_vector = model.encode([query])\n",
    "print(query_vector.shape)\n",
    "index.search(query_vector, dataframe=True, k=20)"
   ]
  },
  {
   "cell_type": "markdown",
   "metadata": {},
   "source": [
    "## cropped paraphrase-mpnet-base-v2 results"
   ]
  },
  {
   "cell_type": "code",
   "execution_count": 28,
   "metadata": {
    "colab": {
     "base_uri": "https://localhost:8080/",
     "height": 665
    },
    "executionInfo": {
     "elapsed": 7,
     "status": "ok",
     "timestamp": 1621703753353,
     "user": {
      "displayName": "Pratik Bhavsar",
      "photoUrl": "https://lh3.googleusercontent.com/a-/AOh14GjlU8zpRNrvsulni8P4zzsD1TFpmA3QoAMVIOlZwA=s64",
      "userId": "06219224739467266869"
     },
     "user_tz": -330
    },
    "id": "GbZp_PKg6dxR",
    "outputId": "64ca0238-140f-469d-adc7-c3e58a6d1afe"
   },
   "outputs": [
    {
     "name": "stdout",
     "output_type": "stream",
     "text": [
      "(1, 768)\n"
     ]
    },
    {
     "data": {
      "text/html": [
       "<div>\n",
       "<style scoped>\n",
       "    .dataframe tbody tr th:only-of-type {\n",
       "        vertical-align: middle;\n",
       "    }\n",
       "\n",
       "    .dataframe tbody tr th {\n",
       "        vertical-align: top;\n",
       "    }\n",
       "\n",
       "    .dataframe thead th {\n",
       "        text-align: right;\n",
       "    }\n",
       "</style>\n",
       "<table border=\"1\" class=\"dataframe\">\n",
       "  <thead>\n",
       "    <tr style=\"text-align: right;\">\n",
       "      <th></th>\n",
       "      <th>text</th>\n",
       "      <th>cosine_sim</th>\n",
       "    </tr>\n",
       "  </thead>\n",
       "  <tbody>\n",
       "    <tr>\n",
       "      <th>0</th>\n",
       "      <td>How do I make myself more productive and happy?</td>\n",
       "      <td>0.73</td>\n",
       "    </tr>\n",
       "    <tr>\n",
       "      <th>1</th>\n",
       "      <td>How can we lead a better life?</td>\n",
       "      <td>0.72</td>\n",
       "    </tr>\n",
       "    <tr>\n",
       "      <th>2</th>\n",
       "      <td>What is the best way to improve stamina?</td>\n",
       "      <td>0.72</td>\n",
       "    </tr>\n",
       "    <tr>\n",
       "      <th>3</th>\n",
       "      <td>How can I change my baby fat in a healthy way？?</td>\n",
       "      <td>0.71</td>\n",
       "    </tr>\n",
       "    <tr>\n",
       "      <th>4</th>\n",
       "      <td>How can I take excellent care of my teeth?</td>\n",
       "      <td>0.71</td>\n",
       "    </tr>\n",
       "    <tr>\n",
       "      <th>5</th>\n",
       "      <td>How do I maintain our face clean and oily less?</td>\n",
       "      <td>0.70</td>\n",
       "    </tr>\n",
       "    <tr>\n",
       "      <th>6</th>\n",
       "      <td>How does one become more strategic?</td>\n",
       "      <td>0.70</td>\n",
       "    </tr>\n",
       "    <tr>\n",
       "      <th>7</th>\n",
       "      <td>How do you stay energetic?</td>\n",
       "      <td>0.70</td>\n",
       "    </tr>\n",
       "    <tr>\n",
       "      <th>8</th>\n",
       "      <td>What are the best ways to improve your body language?</td>\n",
       "      <td>0.70</td>\n",
       "    </tr>\n",
       "    <tr>\n",
       "      <th>9</th>\n",
       "      <td>How can I gain weight and develop fitness?</td>\n",
       "      <td>0.69</td>\n",
       "    </tr>\n",
       "    <tr>\n",
       "      <th>10</th>\n",
       "      <td>How can one make their holidays more productive?</td>\n",
       "      <td>0.69</td>\n",
       "    </tr>\n",
       "    <tr>\n",
       "      <th>11</th>\n",
       "      <td>Which is the best way to improve football skills?</td>\n",
       "      <td>0.69</td>\n",
       "    </tr>\n",
       "    <tr>\n",
       "      <th>12</th>\n",
       "      <td>How can I improve my sleeping pattern?</td>\n",
       "      <td>0.69</td>\n",
       "    </tr>\n",
       "    <tr>\n",
       "      <th>13</th>\n",
       "      <td>How do I clean my lungs?</td>\n",
       "      <td>0.69</td>\n",
       "    </tr>\n",
       "    <tr>\n",
       "      <th>14</th>\n",
       "      <td>What are some good tips to live to be 100?</td>\n",
       "      <td>0.69</td>\n",
       "    </tr>\n",
       "    <tr>\n",
       "      <th>15</th>\n",
       "      <td>What are the best ways of gaining fat?</td>\n",
       "      <td>0.69</td>\n",
       "    </tr>\n",
       "    <tr>\n",
       "      <th>16</th>\n",
       "      <td>How do I become happier with myself?</td>\n",
       "      <td>0.68</td>\n",
       "    </tr>\n",
       "    <tr>\n",
       "      <th>17</th>\n",
       "      <td>How do I improve my time management?</td>\n",
       "      <td>0.68</td>\n",
       "    </tr>\n",
       "    <tr>\n",
       "      <th>18</th>\n",
       "      <td>How can I become more charismatic?</td>\n",
       "      <td>0.68</td>\n",
       "    </tr>\n",
       "    <tr>\n",
       "      <th>19</th>\n",
       "      <td>What is the best way to cure asthma?</td>\n",
       "      <td>0.68</td>\n",
       "    </tr>\n",
       "  </tbody>\n",
       "</table>\n",
       "</div>"
      ],
      "text/plain": [
       "                                                     text  cosine_sim\n",
       "0         How do I make myself more productive and happy?        0.73\n",
       "1                          How can we lead a better life?        0.72\n",
       "2                What is the best way to improve stamina?        0.72\n",
       "3         How can I change my baby fat in a healthy way？?        0.71\n",
       "4              How can I take excellent care of my teeth?        0.71\n",
       "5         How do I maintain our face clean and oily less?        0.70\n",
       "6                     How does one become more strategic?        0.70\n",
       "7                              How do you stay energetic?        0.70\n",
       "8   What are the best ways to improve your body language?        0.70\n",
       "9              How can I gain weight and develop fitness?        0.69\n",
       "10       How can one make their holidays more productive?        0.69\n",
       "11      Which is the best way to improve football skills?        0.69\n",
       "12                 How can I improve my sleeping pattern?        0.69\n",
       "13                               How do I clean my lungs?        0.69\n",
       "14             What are some good tips to live to be 100?        0.69\n",
       "15                 What are the best ways of gaining fat?        0.69\n",
       "16                   How do I become happier with myself?        0.68\n",
       "17                   How do I improve my time management?        0.68\n",
       "18                     How can I become more charismatic?        0.68\n",
       "19                   What is the best way to cure asthma?        0.68"
      ]
     },
     "execution_count": 28,
     "metadata": {},
     "output_type": "execute_result"
    }
   ],
   "source": [
    "query_vector = small_model.encode([query])\n",
    "print(query_vector.shape)\n",
    "small_index.search(query_vector, dataframe=True, k=20)"
   ]
  },
  {
   "cell_type": "markdown",
   "metadata": {},
   "source": [
    "## paraphrase-MiniLM-L3-v2 results"
   ]
  },
  {
   "cell_type": "code",
   "execution_count": 31,
   "metadata": {
    "id": "5zvWLVgcYP-A"
   },
   "outputs": [
    {
     "name": "stdout",
     "output_type": "stream",
     "text": [
      "(1, 384)\n"
     ]
    },
    {
     "data": {
      "text/html": [
       "<div>\n",
       "<style scoped>\n",
       "    .dataframe tbody tr th:only-of-type {\n",
       "        vertical-align: middle;\n",
       "    }\n",
       "\n",
       "    .dataframe tbody tr th {\n",
       "        vertical-align: top;\n",
       "    }\n",
       "\n",
       "    .dataframe thead th {\n",
       "        text-align: right;\n",
       "    }\n",
       "</style>\n",
       "<table border=\"1\" class=\"dataframe\">\n",
       "  <thead>\n",
       "    <tr style=\"text-align: right;\">\n",
       "      <th></th>\n",
       "      <th>text</th>\n",
       "      <th>cosine_sim</th>\n",
       "    </tr>\n",
       "  </thead>\n",
       "  <tbody>\n",
       "    <tr>\n",
       "      <th>0</th>\n",
       "      <td>Which is the best health insurance policy?</td>\n",
       "      <td>0.52</td>\n",
       "    </tr>\n",
       "    <tr>\n",
       "      <th>1</th>\n",
       "      <td>What EHR/EMR is best for public health departments?</td>\n",
       "      <td>0.48</td>\n",
       "    </tr>\n",
       "    <tr>\n",
       "      <th>2</th>\n",
       "      <td>How do I get better at developing a new skill?</td>\n",
       "      <td>0.47</td>\n",
       "    </tr>\n",
       "    <tr>\n",
       "      <th>3</th>\n",
       "      <td>Is eating bread good for health?</td>\n",
       "      <td>0.44</td>\n",
       "    </tr>\n",
       "    <tr>\n",
       "      <th>4</th>\n",
       "      <td>What are the health benefits of doing pushups everyday?</td>\n",
       "      <td>0.43</td>\n",
       "    </tr>\n",
       "    <tr>\n",
       "      <th>5</th>\n",
       "      <td>Is it better for our health to shower at night or in the morning?</td>\n",
       "      <td>0.42</td>\n",
       "    </tr>\n",
       "    <tr>\n",
       "      <th>6</th>\n",
       "      <td>Why do good people suffer more in life?</td>\n",
       "      <td>0.41</td>\n",
       "    </tr>\n",
       "    <tr>\n",
       "      <th>7</th>\n",
       "      <td>Is M.D quite a sufficient degree to treat the patient?</td>\n",
       "      <td>0.41</td>\n",
       "    </tr>\n",
       "    <tr>\n",
       "      <th>8</th>\n",
       "      <td>What is the best medicine for sex?</td>\n",
       "      <td>0.41</td>\n",
       "    </tr>\n",
       "    <tr>\n",
       "      <th>9</th>\n",
       "      <td>How can we lead a better life?</td>\n",
       "      <td>0.40</td>\n",
       "    </tr>\n",
       "    <tr>\n",
       "      <th>10</th>\n",
       "      <td>What are the pros and con of choosing to become a doctor?</td>\n",
       "      <td>0.40</td>\n",
       "    </tr>\n",
       "    <tr>\n",
       "      <th>11</th>\n",
       "      <td>What is the healthiest food?</td>\n",
       "      <td>0.39</td>\n",
       "    </tr>\n",
       "    <tr>\n",
       "      <th>12</th>\n",
       "      <td>Which is better CA or MBA?</td>\n",
       "      <td>0.39</td>\n",
       "    </tr>\n",
       "    <tr>\n",
       "      <th>13</th>\n",
       "      <td>Should you treat people fairly?</td>\n",
       "      <td>0.39</td>\n",
       "    </tr>\n",
       "    <tr>\n",
       "      <th>14</th>\n",
       "      <td>How can l better Christian?</td>\n",
       "      <td>0.39</td>\n",
       "    </tr>\n",
       "    <tr>\n",
       "      <th>15</th>\n",
       "      <td>Is India better than Pakistan?</td>\n",
       "      <td>0.39</td>\n",
       "    </tr>\n",
       "    <tr>\n",
       "      <th>16</th>\n",
       "      <td>How can I take excellent care of my teeth?</td>\n",
       "      <td>0.37</td>\n",
       "    </tr>\n",
       "    <tr>\n",
       "      <th>17</th>\n",
       "      <td>What is a better alternative to canva?</td>\n",
       "      <td>0.37</td>\n",
       "    </tr>\n",
       "    <tr>\n",
       "      <th>18</th>\n",
       "      <td>What are the main and most important benefits of having an insurance?</td>\n",
       "      <td>0.36</td>\n",
       "    </tr>\n",
       "    <tr>\n",
       "      <th>19</th>\n",
       "      <td>How I study smarter not harder?</td>\n",
       "      <td>0.36</td>\n",
       "    </tr>\n",
       "  </tbody>\n",
       "</table>\n",
       "</div>"
      ],
      "text/plain": [
       "                                                                     text  \\\n",
       "0                              Which is the best health insurance policy?   \n",
       "1                     What EHR/EMR is best for public health departments?   \n",
       "2                          How do I get better at developing a new skill?   \n",
       "3                                        Is eating bread good for health?   \n",
       "4                 What are the health benefits of doing pushups everyday?   \n",
       "5       Is it better for our health to shower at night or in the morning?   \n",
       "6                                 Why do good people suffer more in life?   \n",
       "7                  Is M.D quite a sufficient degree to treat the patient?   \n",
       "8                                      What is the best medicine for sex?   \n",
       "9                                          How can we lead a better life?   \n",
       "10              What are the pros and con of choosing to become a doctor?   \n",
       "11                                           What is the healthiest food?   \n",
       "12                                             Which is better CA or MBA?   \n",
       "13                                        Should you treat people fairly?   \n",
       "14                                            How can l better Christian?   \n",
       "15                                         Is India better than Pakistan?   \n",
       "16                             How can I take excellent care of my teeth?   \n",
       "17                                 What is a better alternative to canva?   \n",
       "18  What are the main and most important benefits of having an insurance?   \n",
       "19                                        How I study smarter not harder?   \n",
       "\n",
       "    cosine_sim  \n",
       "0         0.52  \n",
       "1         0.48  \n",
       "2         0.47  \n",
       "3         0.44  \n",
       "4         0.43  \n",
       "5         0.42  \n",
       "6         0.41  \n",
       "7         0.41  \n",
       "8         0.41  \n",
       "9         0.40  \n",
       "10        0.40  \n",
       "11        0.39  \n",
       "12        0.39  \n",
       "13        0.39  \n",
       "14        0.39  \n",
       "15        0.39  \n",
       "16        0.37  \n",
       "17        0.37  \n",
       "18        0.36  \n",
       "19        0.36  "
      ]
     },
     "execution_count": 31,
     "metadata": {},
     "output_type": "execute_result"
    }
   ],
   "source": [
    "query_vector = distill_model.encode([query])\n",
    "print(query_vector.shape)\n",
    "distill_index.search(query_vector, dataframe=True, k=20)"
   ]
  },
  {
   "cell_type": "code",
   "execution_count": null,
   "metadata": {},
   "outputs": [],
   "source": []
  },
  {
   "cell_type": "code",
   "execution_count": null,
   "metadata": {},
   "outputs": [],
   "source": []
  }
 ],
 "metadata": {
  "accelerator": "GPU",
  "colab": {
   "authorship_tag": "ABX9TyMhy9/KhYJ6ls3sIbUs+l15",
   "collapsed_sections": [],
   "name": "2. clip_layers.ipynb",
   "provenance": []
  },
  "kernelspec": {
   "display_name": "Python 3",
   "language": "python",
   "name": "python3"
  },
  "language_info": {
   "codemirror_mode": {
    "name": "ipython",
    "version": 3
   },
   "file_extension": ".py",
   "mimetype": "text/x-python",
   "name": "python",
   "nbconvert_exporter": "python",
   "pygments_lexer": "ipython3",
   "version": "3.8.5"
  },
  "widgets": {
   "application/vnd.jupyter.widget-state+json": {
    "12f960977ce245aab1f6b0b702fbf699": {
     "model_module": "@jupyter-widgets/controls",
     "model_name": "DescriptionStyleModel",
     "state": {
      "_model_module": "@jupyter-widgets/controls",
      "_model_module_version": "1.5.0",
      "_model_name": "DescriptionStyleModel",
      "_view_count": null,
      "_view_module": "@jupyter-widgets/base",
      "_view_module_version": "1.2.0",
      "_view_name": "StyleView",
      "description_width": ""
     }
    },
    "18ea65a3ab5d4665b679e49bb4cf63f3": {
     "model_module": "@jupyter-widgets/controls",
     "model_name": "ProgressStyleModel",
     "state": {
      "_model_module": "@jupyter-widgets/controls",
      "_model_module_version": "1.5.0",
      "_model_name": "ProgressStyleModel",
      "_view_count": null,
      "_view_module": "@jupyter-widgets/base",
      "_view_module_version": "1.2.0",
      "_view_name": "StyleView",
      "bar_color": null,
      "description_width": "initial"
     }
    },
    "6c29065239d847b0808bc187bf68346f": {
     "model_module": "@jupyter-widgets/base",
     "model_name": "LayoutModel",
     "state": {
      "_model_module": "@jupyter-widgets/base",
      "_model_module_version": "1.2.0",
      "_model_name": "LayoutModel",
      "_view_count": null,
      "_view_module": "@jupyter-widgets/base",
      "_view_module_version": "1.2.0",
      "_view_name": "LayoutView",
      "align_content": null,
      "align_items": null,
      "align_self": null,
      "border": null,
      "bottom": null,
      "display": null,
      "flex": null,
      "flex_flow": null,
      "grid_area": null,
      "grid_auto_columns": null,
      "grid_auto_flow": null,
      "grid_auto_rows": null,
      "grid_column": null,
      "grid_gap": null,
      "grid_row": null,
      "grid_template_areas": null,
      "grid_template_columns": null,
      "grid_template_rows": null,
      "height": null,
      "justify_content": null,
      "justify_items": null,
      "left": null,
      "margin": null,
      "max_height": null,
      "max_width": null,
      "min_height": null,
      "min_width": null,
      "object_fit": null,
      "object_position": null,
      "order": null,
      "overflow": null,
      "overflow_x": null,
      "overflow_y": null,
      "padding": null,
      "right": null,
      "top": null,
      "visibility": null,
      "width": null
     }
    },
    "ab69ba9ae2bd45de814f8652f7851e98": {
     "model_module": "@jupyter-widgets/controls",
     "model_name": "FloatProgressModel",
     "state": {
      "_dom_classes": [],
      "_model_module": "@jupyter-widgets/controls",
      "_model_module_version": "1.5.0",
      "_model_name": "FloatProgressModel",
      "_view_count": null,
      "_view_module": "@jupyter-widgets/controls",
      "_view_module_version": "1.5.0",
      "_view_name": "ProgressView",
      "bar_style": "success",
      "description": "100%",
      "description_tooltip": null,
      "layout": "IPY_MODEL_cde4da60206549d6ba5167c8f12abbe9",
      "max": 1000,
      "min": 0,
      "orientation": "horizontal",
      "style": "IPY_MODEL_18ea65a3ab5d4665b679e49bb4cf63f3",
      "value": 1000
     }
    },
    "afb142817be84c84b659f2d1ef04c413": {
     "model_module": "@jupyter-widgets/base",
     "model_name": "LayoutModel",
     "state": {
      "_model_module": "@jupyter-widgets/base",
      "_model_module_version": "1.2.0",
      "_model_name": "LayoutModel",
      "_view_count": null,
      "_view_module": "@jupyter-widgets/base",
      "_view_module_version": "1.2.0",
      "_view_name": "LayoutView",
      "align_content": null,
      "align_items": null,
      "align_self": null,
      "border": null,
      "bottom": null,
      "display": null,
      "flex": null,
      "flex_flow": null,
      "grid_area": null,
      "grid_auto_columns": null,
      "grid_auto_flow": null,
      "grid_auto_rows": null,
      "grid_column": null,
      "grid_gap": null,
      "grid_row": null,
      "grid_template_areas": null,
      "grid_template_columns": null,
      "grid_template_rows": null,
      "height": null,
      "justify_content": null,
      "justify_items": null,
      "left": null,
      "margin": null,
      "max_height": null,
      "max_width": null,
      "min_height": null,
      "min_width": null,
      "object_fit": null,
      "object_position": null,
      "order": null,
      "overflow": null,
      "overflow_x": null,
      "overflow_y": null,
      "padding": null,
      "right": null,
      "top": null,
      "visibility": null,
      "width": null
     }
    },
    "cde4da60206549d6ba5167c8f12abbe9": {
     "model_module": "@jupyter-widgets/base",
     "model_name": "LayoutModel",
     "state": {
      "_model_module": "@jupyter-widgets/base",
      "_model_module_version": "1.2.0",
      "_model_name": "LayoutModel",
      "_view_count": null,
      "_view_module": "@jupyter-widgets/base",
      "_view_module_version": "1.2.0",
      "_view_name": "LayoutView",
      "align_content": null,
      "align_items": null,
      "align_self": null,
      "border": null,
      "bottom": null,
      "display": null,
      "flex": null,
      "flex_flow": null,
      "grid_area": null,
      "grid_auto_columns": null,
      "grid_auto_flow": null,
      "grid_auto_rows": null,
      "grid_column": null,
      "grid_gap": null,
      "grid_row": null,
      "grid_template_areas": null,
      "grid_template_columns": null,
      "grid_template_rows": null,
      "height": null,
      "justify_content": null,
      "justify_items": null,
      "left": null,
      "margin": null,
      "max_height": null,
      "max_width": null,
      "min_height": null,
      "min_width": null,
      "object_fit": null,
      "object_position": null,
      "order": null,
      "overflow": null,
      "overflow_x": null,
      "overflow_y": null,
      "padding": null,
      "right": null,
      "top": null,
      "visibility": null,
      "width": null
     }
    },
    "d60ec78f265a47f5be50ff8935fee4f5": {
     "model_module": "@jupyter-widgets/controls",
     "model_name": "HBoxModel",
     "state": {
      "_dom_classes": [],
      "_model_module": "@jupyter-widgets/controls",
      "_model_module_version": "1.5.0",
      "_model_name": "HBoxModel",
      "_view_count": null,
      "_view_module": "@jupyter-widgets/controls",
      "_view_module_version": "1.5.0",
      "_view_name": "HBoxView",
      "box_style": "",
      "children": [
       "IPY_MODEL_ab69ba9ae2bd45de814f8652f7851e98",
       "IPY_MODEL_f17ba2ff2c6344d19bf2c841787c80d7"
      ],
      "layout": "IPY_MODEL_afb142817be84c84b659f2d1ef04c413"
     }
    },
    "f17ba2ff2c6344d19bf2c841787c80d7": {
     "model_module": "@jupyter-widgets/controls",
     "model_name": "HTMLModel",
     "state": {
      "_dom_classes": [],
      "_model_module": "@jupyter-widgets/controls",
      "_model_module_version": "1.5.0",
      "_model_name": "HTMLModel",
      "_view_count": null,
      "_view_module": "@jupyter-widgets/controls",
      "_view_module_version": "1.5.0",
      "_view_name": "HTMLView",
      "description": "",
      "description_tooltip": null,
      "layout": "IPY_MODEL_6c29065239d847b0808bc187bf68346f",
      "placeholder": "​",
      "style": "IPY_MODEL_12f960977ce245aab1f6b0b702fbf699",
      "value": " 1000/1000 [00:04&lt;00:00, 247.82it/s]"
     }
    }
   }
  }
 },
 "nbformat": 4,
 "nbformat_minor": 4
}
